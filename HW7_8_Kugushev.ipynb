{
  "nbformat": 4,
  "nbformat_minor": 0,
  "metadata": {
    "colab": {
      "name": "HW7-8_Kugushev.ipynb",
      "provenance": [],
      "toc_visible": true
    },
    "kernelspec": {
      "name": "python3",
      "display_name": "Python 3"
    }
  },
  "cells": [
    {
      "cell_type": "code",
      "metadata": {
        "id": "62F-QnO9yoUH"
      },
      "source": [
        "import pandas as pd\n",
        "import numpy as np\n",
        "import matplotlib.pyplot as plt\n",
        "import scipy.stats as scs\n",
        "import statsmodels.distributions\n",
        "import seaborn as sns\n",
        "from statsmodels.stats.power import TTestIndPower\n",
        "from numpy.random import randint"
      ],
      "execution_count": null,
      "outputs": []
    },
    {
      "cell_type": "code",
      "metadata": {
        "colab": {
          "resources": {
            "http://localhost:8080/nbextensions/google.colab/files.js": {
              "data": "Ly8gQ29weXJpZ2h0IDIwMTcgR29vZ2xlIExMQwovLwovLyBMaWNlbnNlZCB1bmRlciB0aGUgQXBhY2hlIExpY2Vuc2UsIFZlcnNpb24gMi4wICh0aGUgIkxpY2Vuc2UiKTsKLy8geW91IG1heSBub3QgdXNlIHRoaXMgZmlsZSBleGNlcHQgaW4gY29tcGxpYW5jZSB3aXRoIHRoZSBMaWNlbnNlLgovLyBZb3UgbWF5IG9idGFpbiBhIGNvcHkgb2YgdGhlIExpY2Vuc2UgYXQKLy8KLy8gICAgICBodHRwOi8vd3d3LmFwYWNoZS5vcmcvbGljZW5zZXMvTElDRU5TRS0yLjAKLy8KLy8gVW5sZXNzIHJlcXVpcmVkIGJ5IGFwcGxpY2FibGUgbGF3IG9yIGFncmVlZCB0byBpbiB3cml0aW5nLCBzb2Z0d2FyZQovLyBkaXN0cmlidXRlZCB1bmRlciB0aGUgTGljZW5zZSBpcyBkaXN0cmlidXRlZCBvbiBhbiAiQVMgSVMiIEJBU0lTLAovLyBXSVRIT1VUIFdBUlJBTlRJRVMgT1IgQ09ORElUSU9OUyBPRiBBTlkgS0lORCwgZWl0aGVyIGV4cHJlc3Mgb3IgaW1wbGllZC4KLy8gU2VlIHRoZSBMaWNlbnNlIGZvciB0aGUgc3BlY2lmaWMgbGFuZ3VhZ2UgZ292ZXJuaW5nIHBlcm1pc3Npb25zIGFuZAovLyBsaW1pdGF0aW9ucyB1bmRlciB0aGUgTGljZW5zZS4KCi8qKgogKiBAZmlsZW92ZXJ2aWV3IEhlbHBlcnMgZm9yIGdvb2dsZS5jb2xhYiBQeXRob24gbW9kdWxlLgogKi8KKGZ1bmN0aW9uKHNjb3BlKSB7CmZ1bmN0aW9uIHNwYW4odGV4dCwgc3R5bGVBdHRyaWJ1dGVzID0ge30pIHsKICBjb25zdCBlbGVtZW50ID0gZG9jdW1lbnQuY3JlYXRlRWxlbWVudCgnc3BhbicpOwogIGVsZW1lbnQudGV4dENvbnRlbnQgPSB0ZXh0OwogIGZvciAoY29uc3Qga2V5IG9mIE9iamVjdC5rZXlzKHN0eWxlQXR0cmlidXRlcykpIHsKICAgIGVsZW1lbnQuc3R5bGVba2V5XSA9IHN0eWxlQXR0cmlidXRlc1trZXldOwogIH0KICByZXR1cm4gZWxlbWVudDsKfQoKLy8gTWF4IG51bWJlciBvZiBieXRlcyB3aGljaCB3aWxsIGJlIHVwbG9hZGVkIGF0IGEgdGltZS4KY29uc3QgTUFYX1BBWUxPQURfU0laRSA9IDEwMCAqIDEwMjQ7CgpmdW5jdGlvbiBfdXBsb2FkRmlsZXMoaW5wdXRJZCwgb3V0cHV0SWQpIHsKICBjb25zdCBzdGVwcyA9IHVwbG9hZEZpbGVzU3RlcChpbnB1dElkLCBvdXRwdXRJZCk7CiAgY29uc3Qgb3V0cHV0RWxlbWVudCA9IGRvY3VtZW50LmdldEVsZW1lbnRCeUlkKG91dHB1dElkKTsKICAvLyBDYWNoZSBzdGVwcyBvbiB0aGUgb3V0cHV0RWxlbWVudCB0byBtYWtlIGl0IGF2YWlsYWJsZSBmb3IgdGhlIG5leHQgY2FsbAogIC8vIHRvIHVwbG9hZEZpbGVzQ29udGludWUgZnJvbSBQeXRob24uCiAgb3V0cHV0RWxlbWVudC5zdGVwcyA9IHN0ZXBzOwoKICByZXR1cm4gX3VwbG9hZEZpbGVzQ29udGludWUob3V0cHV0SWQpOwp9CgovLyBUaGlzIGlzIHJvdWdobHkgYW4gYXN5bmMgZ2VuZXJhdG9yIChub3Qgc3VwcG9ydGVkIGluIHRoZSBicm93c2VyIHlldCksCi8vIHdoZXJlIHRoZXJlIGFyZSBtdWx0aXBsZSBhc3luY2hyb25vdXMgc3RlcHMgYW5kIHRoZSBQeXRob24gc2lkZSBpcyBnb2luZwovLyB0byBwb2xsIGZvciBjb21wbGV0aW9uIG9mIGVhY2ggc3RlcC4KLy8gVGhpcyB1c2VzIGEgUHJvbWlzZSB0byBibG9jayB0aGUgcHl0aG9uIHNpZGUgb24gY29tcGxldGlvbiBvZiBlYWNoIHN0ZXAsCi8vIHRoZW4gcGFzc2VzIHRoZSByZXN1bHQgb2YgdGhlIHByZXZpb3VzIHN0ZXAgYXMgdGhlIGlucHV0IHRvIHRoZSBuZXh0IHN0ZXAuCmZ1bmN0aW9uIF91cGxvYWRGaWxlc0NvbnRpbnVlKG91dHB1dElkKSB7CiAgY29uc3Qgb3V0cHV0RWxlbWVudCA9IGRvY3VtZW50LmdldEVsZW1lbnRCeUlkKG91dHB1dElkKTsKICBjb25zdCBzdGVwcyA9IG91dHB1dEVsZW1lbnQuc3RlcHM7CgogIGNvbnN0IG5leHQgPSBzdGVwcy5uZXh0KG91dHB1dEVsZW1lbnQubGFzdFByb21pc2VWYWx1ZSk7CiAgcmV0dXJuIFByb21pc2UucmVzb2x2ZShuZXh0LnZhbHVlLnByb21pc2UpLnRoZW4oKHZhbHVlKSA9PiB7CiAgICAvLyBDYWNoZSB0aGUgbGFzdCBwcm9taXNlIHZhbHVlIHRvIG1ha2UgaXQgYXZhaWxhYmxlIHRvIHRoZSBuZXh0CiAgICAvLyBzdGVwIG9mIHRoZSBnZW5lcmF0b3IuCiAgICBvdXRwdXRFbGVtZW50Lmxhc3RQcm9taXNlVmFsdWUgPSB2YWx1ZTsKICAgIHJldHVybiBuZXh0LnZhbHVlLnJlc3BvbnNlOwogIH0pOwp9CgovKioKICogR2VuZXJhdG9yIGZ1bmN0aW9uIHdoaWNoIGlzIGNhbGxlZCBiZXR3ZWVuIGVhY2ggYXN5bmMgc3RlcCBvZiB0aGUgdXBsb2FkCiAqIHByb2Nlc3MuCiAqIEBwYXJhbSB7c3RyaW5nfSBpbnB1dElkIEVsZW1lbnQgSUQgb2YgdGhlIGlucHV0IGZpbGUgcGlja2VyIGVsZW1lbnQuCiAqIEBwYXJhbSB7c3RyaW5nfSBvdXRwdXRJZCBFbGVtZW50IElEIG9mIHRoZSBvdXRwdXQgZGlzcGxheS4KICogQHJldHVybiB7IUl0ZXJhYmxlPCFPYmplY3Q+fSBJdGVyYWJsZSBvZiBuZXh0IHN0ZXBzLgogKi8KZnVuY3Rpb24qIHVwbG9hZEZpbGVzU3RlcChpbnB1dElkLCBvdXRwdXRJZCkgewogIGNvbnN0IGlucHV0RWxlbWVudCA9IGRvY3VtZW50LmdldEVsZW1lbnRCeUlkKGlucHV0SWQpOwogIGlucHV0RWxlbWVudC5kaXNhYmxlZCA9IGZhbHNlOwoKICBjb25zdCBvdXRwdXRFbGVtZW50ID0gZG9jdW1lbnQuZ2V0RWxlbWVudEJ5SWQob3V0cHV0SWQpOwogIG91dHB1dEVsZW1lbnQuaW5uZXJIVE1MID0gJyc7CgogIGNvbnN0IHBpY2tlZFByb21pc2UgPSBuZXcgUHJvbWlzZSgocmVzb2x2ZSkgPT4gewogICAgaW5wdXRFbGVtZW50LmFkZEV2ZW50TGlzdGVuZXIoJ2NoYW5nZScsIChlKSA9PiB7CiAgICAgIHJlc29sdmUoZS50YXJnZXQuZmlsZXMpOwogICAgfSk7CiAgfSk7CgogIGNvbnN0IGNhbmNlbCA9IGRvY3VtZW50LmNyZWF0ZUVsZW1lbnQoJ2J1dHRvbicpOwogIGlucHV0RWxlbWVudC5wYXJlbnRFbGVtZW50LmFwcGVuZENoaWxkKGNhbmNlbCk7CiAgY2FuY2VsLnRleHRDb250ZW50ID0gJ0NhbmNlbCB1cGxvYWQnOwogIGNvbnN0IGNhbmNlbFByb21pc2UgPSBuZXcgUHJvbWlzZSgocmVzb2x2ZSkgPT4gewogICAgY2FuY2VsLm9uY2xpY2sgPSAoKSA9PiB7CiAgICAgIHJlc29sdmUobnVsbCk7CiAgICB9OwogIH0pOwoKICAvLyBXYWl0IGZvciB0aGUgdXNlciB0byBwaWNrIHRoZSBmaWxlcy4KICBjb25zdCBmaWxlcyA9IHlpZWxkIHsKICAgIHByb21pc2U6IFByb21pc2UucmFjZShbcGlja2VkUHJvbWlzZSwgY2FuY2VsUHJvbWlzZV0pLAogICAgcmVzcG9uc2U6IHsKICAgICAgYWN0aW9uOiAnc3RhcnRpbmcnLAogICAgfQogIH07CgogIGNhbmNlbC5yZW1vdmUoKTsKCiAgLy8gRGlzYWJsZSB0aGUgaW5wdXQgZWxlbWVudCBzaW5jZSBmdXJ0aGVyIHBpY2tzIGFyZSBub3QgYWxsb3dlZC4KICBpbnB1dEVsZW1lbnQuZGlzYWJsZWQgPSB0cnVlOwoKICBpZiAoIWZpbGVzKSB7CiAgICByZXR1cm4gewogICAgICByZXNwb25zZTogewogICAgICAgIGFjdGlvbjogJ2NvbXBsZXRlJywKICAgICAgfQogICAgfTsKICB9CgogIGZvciAoY29uc3QgZmlsZSBvZiBmaWxlcykgewogICAgY29uc3QgbGkgPSBkb2N1bWVudC5jcmVhdGVFbGVtZW50KCdsaScpOwogICAgbGkuYXBwZW5kKHNwYW4oZmlsZS5uYW1lLCB7Zm9udFdlaWdodDogJ2JvbGQnfSkpOwogICAgbGkuYXBwZW5kKHNwYW4oCiAgICAgICAgYCgke2ZpbGUudHlwZSB8fCAnbi9hJ30pIC0gJHtmaWxlLnNpemV9IGJ5dGVzLCBgICsKICAgICAgICBgbGFzdCBtb2RpZmllZDogJHsKICAgICAgICAgICAgZmlsZS5sYXN0TW9kaWZpZWREYXRlID8gZmlsZS5sYXN0TW9kaWZpZWREYXRlLnRvTG9jYWxlRGF0ZVN0cmluZygpIDoKICAgICAgICAgICAgICAgICAgICAgICAgICAgICAgICAgICAgJ24vYSd9IC0gYCkpOwogICAgY29uc3QgcGVyY2VudCA9IHNwYW4oJzAlIGRvbmUnKTsKICAgIGxpLmFwcGVuZENoaWxkKHBlcmNlbnQpOwoKICAgIG91dHB1dEVsZW1lbnQuYXBwZW5kQ2hpbGQobGkpOwoKICAgIGNvbnN0IGZpbGVEYXRhUHJvbWlzZSA9IG5ldyBQcm9taXNlKChyZXNvbHZlKSA9PiB7CiAgICAgIGNvbnN0IHJlYWRlciA9IG5ldyBGaWxlUmVhZGVyKCk7CiAgICAgIHJlYWRlci5vbmxvYWQgPSAoZSkgPT4gewogICAgICAgIHJlc29sdmUoZS50YXJnZXQucmVzdWx0KTsKICAgICAgfTsKICAgICAgcmVhZGVyLnJlYWRBc0FycmF5QnVmZmVyKGZpbGUpOwogICAgfSk7CiAgICAvLyBXYWl0IGZvciB0aGUgZGF0YSB0byBiZSByZWFkeS4KICAgIGxldCBmaWxlRGF0YSA9IHlpZWxkIHsKICAgICAgcHJvbWlzZTogZmlsZURhdGFQcm9taXNlLAogICAgICByZXNwb25zZTogewogICAgICAgIGFjdGlvbjogJ2NvbnRpbnVlJywKICAgICAgfQogICAgfTsKCiAgICAvLyBVc2UgYSBjaHVua2VkIHNlbmRpbmcgdG8gYXZvaWQgbWVzc2FnZSBzaXplIGxpbWl0cy4gU2VlIGIvNjIxMTU2NjAuCiAgICBsZXQgcG9zaXRpb24gPSAwOwogICAgd2hpbGUgKHBvc2l0aW9uIDwgZmlsZURhdGEuYnl0ZUxlbmd0aCkgewogICAgICBjb25zdCBsZW5ndGggPSBNYXRoLm1pbihmaWxlRGF0YS5ieXRlTGVuZ3RoIC0gcG9zaXRpb24sIE1BWF9QQVlMT0FEX1NJWkUpOwogICAgICBjb25zdCBjaHVuayA9IG5ldyBVaW50OEFycmF5KGZpbGVEYXRhLCBwb3NpdGlvbiwgbGVuZ3RoKTsKICAgICAgcG9zaXRpb24gKz0gbGVuZ3RoOwoKICAgICAgY29uc3QgYmFzZTY0ID0gYnRvYShTdHJpbmcuZnJvbUNoYXJDb2RlLmFwcGx5KG51bGwsIGNodW5rKSk7CiAgICAgIHlpZWxkIHsKICAgICAgICByZXNwb25zZTogewogICAgICAgICAgYWN0aW9uOiAnYXBwZW5kJywKICAgICAgICAgIGZpbGU6IGZpbGUubmFtZSwKICAgICAgICAgIGRhdGE6IGJhc2U2NCwKICAgICAgICB9LAogICAgICB9OwogICAgICBwZXJjZW50LnRleHRDb250ZW50ID0KICAgICAgICAgIGAke01hdGgucm91bmQoKHBvc2l0aW9uIC8gZmlsZURhdGEuYnl0ZUxlbmd0aCkgKiAxMDApfSUgZG9uZWA7CiAgICB9CiAgfQoKICAvLyBBbGwgZG9uZS4KICB5aWVsZCB7CiAgICByZXNwb25zZTogewogICAgICBhY3Rpb246ICdjb21wbGV0ZScsCiAgICB9CiAgfTsKfQoKc2NvcGUuZ29vZ2xlID0gc2NvcGUuZ29vZ2xlIHx8IHt9OwpzY29wZS5nb29nbGUuY29sYWIgPSBzY29wZS5nb29nbGUuY29sYWIgfHwge307CnNjb3BlLmdvb2dsZS5jb2xhYi5fZmlsZXMgPSB7CiAgX3VwbG9hZEZpbGVzLAogIF91cGxvYWRGaWxlc0NvbnRpbnVlLAp9Owp9KShzZWxmKTsK",
              "ok": true,
              "headers": [
                [
                  "content-type",
                  "application/javascript"
                ]
              ],
              "status": 200,
              "status_text": ""
            }
          },
          "base_uri": "https://localhost:8080/",
          "height": 106
        },
        "id": "X5vR9bghdQot",
        "outputId": "ef5a72e1-6852-436f-f44d-f12e7f74ea4e"
      },
      "source": [
        "from google.colab import files\n",
        "uploaded = files.upload()"
      ],
      "execution_count": null,
      "outputs": [
        {
          "output_type": "display_data",
          "data": {
            "text/html": [
              "\n",
              "     <input type=\"file\" id=\"files-06781632-f5e8-4a70-a852-a8303220a212\" name=\"files[]\" multiple disabled\n",
              "        style=\"border:none\" />\n",
              "     <output id=\"result-06781632-f5e8-4a70-a852-a8303220a212\">\n",
              "      Upload widget is only available when the cell has been executed in the\n",
              "      current browser session. Please rerun this cell to enable.\n",
              "      </output>\n",
              "      <script src=\"/nbextensions/google.colab/files.js\"></script> "
            ],
            "text/plain": [
              "<IPython.core.display.HTML object>"
            ]
          },
          "metadata": {
            "tags": []
          }
        },
        {
          "output_type": "stream",
          "text": [
            "Saving hw_abt_2_byuser.csv to hw_abt_2_byuser (1).csv\n",
            "Saving hw_abt_2_bybucket.csv to hw_abt_2_bybucket (1).csv\n"
          ],
          "name": "stdout"
        }
      ]
    },
    {
      "cell_type": "code",
      "metadata": {
        "id": "Ila9ECluyrGX"
      },
      "source": [
        "user = pd.read_csv('hw_abt_2_byuser.csv', sep = '\\t')\n",
        "bucket = pd.read_csv('hw_abt_2_bybucket.csv', sep = '\\t')          "
      ],
      "execution_count": null,
      "outputs": []
    },
    {
      "cell_type": "code",
      "metadata": {
        "colab": {
          "base_uri": "https://localhost:8080/",
          "height": 195
        },
        "id": "4WJ1GfLlzUto",
        "outputId": "63f7109b-1cfa-4a50-e3e9-6cb1c65282d0"
      },
      "source": [
        "user.head()  "
      ],
      "execution_count": null,
      "outputs": [
        {
          "output_type": "execute_result",
          "data": {
            "text/html": [
              "<div>\n",
              "<style scoped>\n",
              "    .dataframe tbody tr th:only-of-type {\n",
              "        vertical-align: middle;\n",
              "    }\n",
              "\n",
              "    .dataframe tbody tr th {\n",
              "        vertical-align: top;\n",
              "    }\n",
              "\n",
              "    .dataframe thead th {\n",
              "        text-align: right;\n",
              "    }\n",
              "</style>\n",
              "<table border=\"1\" class=\"dataframe\">\n",
              "  <thead>\n",
              "    <tr style=\"text-align: right;\">\n",
              "      <th></th>\n",
              "      <th>Unnamed: 0</th>\n",
              "      <th>group_id</th>\n",
              "      <th>metric_value</th>\n",
              "      <th>users</th>\n",
              "      <th>visits</th>\n",
              "      <th>churn_users</th>\n",
              "      <th>churn_visits</th>\n",
              "      <th>group</th>\n",
              "    </tr>\n",
              "  </thead>\n",
              "  <tbody>\n",
              "    <tr>\n",
              "      <th>0</th>\n",
              "      <td>0</td>\n",
              "      <td>8</td>\n",
              "      <td>6630.000</td>\n",
              "      <td>0</td>\n",
              "      <td>0</td>\n",
              "      <td>0</td>\n",
              "      <td>8</td>\n",
              "      <td>A</td>\n",
              "    </tr>\n",
              "    <tr>\n",
              "      <th>1</th>\n",
              "      <td>1</td>\n",
              "      <td>13</td>\n",
              "      <td>6933.976</td>\n",
              "      <td>0</td>\n",
              "      <td>0</td>\n",
              "      <td>1</td>\n",
              "      <td>6</td>\n",
              "      <td>B</td>\n",
              "    </tr>\n",
              "    <tr>\n",
              "      <th>2</th>\n",
              "      <td>2</td>\n",
              "      <td>10</td>\n",
              "      <td>8261.976</td>\n",
              "      <td>1</td>\n",
              "      <td>10</td>\n",
              "      <td>1</td>\n",
              "      <td>8</td>\n",
              "      <td>B</td>\n",
              "    </tr>\n",
              "    <tr>\n",
              "      <th>3</th>\n",
              "      <td>3</td>\n",
              "      <td>4</td>\n",
              "      <td>5522.000</td>\n",
              "      <td>1</td>\n",
              "      <td>9</td>\n",
              "      <td>1</td>\n",
              "      <td>7</td>\n",
              "      <td>A</td>\n",
              "    </tr>\n",
              "    <tr>\n",
              "      <th>4</th>\n",
              "      <td>4</td>\n",
              "      <td>16</td>\n",
              "      <td>5075.976</td>\n",
              "      <td>1</td>\n",
              "      <td>6</td>\n",
              "      <td>0</td>\n",
              "      <td>8</td>\n",
              "      <td>B</td>\n",
              "    </tr>\n",
              "  </tbody>\n",
              "</table>\n",
              "</div>"
            ],
            "text/plain": [
              "   Unnamed: 0  group_id  metric_value  ...  churn_users  churn_visits  group\n",
              "0           0         8      6630.000  ...            0             8      A\n",
              "1           1        13      6933.976  ...            1             6      B\n",
              "2           2        10      8261.976  ...            1             8      B\n",
              "3           3         4      5522.000  ...            1             7      A\n",
              "4           4        16      5075.976  ...            0             8      B\n",
              "\n",
              "[5 rows x 8 columns]"
            ]
          },
          "metadata": {
            "tags": []
          },
          "execution_count": 348
        }
      ]
    },
    {
      "cell_type": "code",
      "metadata": {
        "colab": {
          "base_uri": "https://localhost:8080/",
          "height": 195
        },
        "id": "9WjSaxVQ3Sei",
        "outputId": "27d69ebc-069a-4ffa-c6c4-49fd8a4a4815"
      },
      "source": [
        "bucket.head()"
      ],
      "execution_count": null,
      "outputs": [
        {
          "output_type": "execute_result",
          "data": {
            "text/html": [
              "<div>\n",
              "<style scoped>\n",
              "    .dataframe tbody tr th:only-of-type {\n",
              "        vertical-align: middle;\n",
              "    }\n",
              "\n",
              "    .dataframe tbody tr th {\n",
              "        vertical-align: top;\n",
              "    }\n",
              "\n",
              "    .dataframe thead th {\n",
              "        text-align: right;\n",
              "    }\n",
              "</style>\n",
              "<table border=\"1\" class=\"dataframe\">\n",
              "  <thead>\n",
              "    <tr style=\"text-align: right;\">\n",
              "      <th></th>\n",
              "      <th>group_id</th>\n",
              "      <th>metric_value</th>\n",
              "      <th>users</th>\n",
              "      <th>visits</th>\n",
              "      <th>churn_users</th>\n",
              "      <th>churn_visits</th>\n",
              "    </tr>\n",
              "  </thead>\n",
              "  <tbody>\n",
              "    <tr>\n",
              "      <th>0</th>\n",
              "      <td>1</td>\n",
              "      <td>1875345.0</td>\n",
              "      <td>155</td>\n",
              "      <td>1419</td>\n",
              "      <td>151</td>\n",
              "      <td>2207</td>\n",
              "    </tr>\n",
              "    <tr>\n",
              "      <th>1</th>\n",
              "      <td>2</td>\n",
              "      <td>1662237.0</td>\n",
              "      <td>138</td>\n",
              "      <td>1320</td>\n",
              "      <td>127</td>\n",
              "      <td>1853</td>\n",
              "    </tr>\n",
              "    <tr>\n",
              "      <th>2</th>\n",
              "      <td>3</td>\n",
              "      <td>1784372.0</td>\n",
              "      <td>128</td>\n",
              "      <td>1281</td>\n",
              "      <td>159</td>\n",
              "      <td>2032</td>\n",
              "    </tr>\n",
              "    <tr>\n",
              "      <th>3</th>\n",
              "      <td>4</td>\n",
              "      <td>1876826.0</td>\n",
              "      <td>163</td>\n",
              "      <td>1644</td>\n",
              "      <td>168</td>\n",
              "      <td>2172</td>\n",
              "    </tr>\n",
              "    <tr>\n",
              "      <th>4</th>\n",
              "      <td>5</td>\n",
              "      <td>1913180.0</td>\n",
              "      <td>156</td>\n",
              "      <td>1675</td>\n",
              "      <td>174</td>\n",
              "      <td>2273</td>\n",
              "    </tr>\n",
              "  </tbody>\n",
              "</table>\n",
              "</div>"
            ],
            "text/plain": [
              "   group_id  metric_value  users  visits  churn_users  churn_visits\n",
              "0         1     1875345.0    155    1419          151          2207\n",
              "1         2     1662237.0    138    1320          127          1853\n",
              "2         3     1784372.0    128    1281          159          2032\n",
              "3         4     1876826.0    163    1644          168          2172\n",
              "4         5     1913180.0    156    1675          174          2273"
            ]
          },
          "metadata": {
            "tags": []
          },
          "execution_count": 349
        }
      ]
    },
    {
      "cell_type": "code",
      "metadata": {
        "id": "xiOcbtWFwWfb"
      },
      "source": [
        "user = user.drop('Unnamed: 0', axis =1)"
      ],
      "execution_count": null,
      "outputs": []
    },
    {
      "cell_type": "code",
      "metadata": {
        "colab": {
          "base_uri": "https://localhost:8080/"
        },
        "id": "KbF-n3fuv7Ak",
        "outputId": "ef4c0096-f2c2-43dc-ab8a-80f694956081"
      },
      "source": [
        "user.isna().sum()"
      ],
      "execution_count": null,
      "outputs": [
        {
          "output_type": "execute_result",
          "data": {
            "text/plain": [
              "group_id        0\n",
              "metric_value    0\n",
              "users           0\n",
              "visits          0\n",
              "churn_users     0\n",
              "churn_visits    0\n",
              "group           0\n",
              "dtype: int64"
            ]
          },
          "metadata": {
            "tags": []
          },
          "execution_count": 351
        }
      ]
    },
    {
      "cell_type": "markdown",
      "metadata": {
        "id": "w-oKMmgA3OLk"
      },
      "source": [
        "Убираем неоднозначность данных"
      ]
    },
    {
      "cell_type": "code",
      "metadata": {
        "colab": {
          "base_uri": "https://localhost:8080/",
          "height": 402
        },
        "id": "LMWSrzt_zVze",
        "outputId": "7f34e0fb-1f03-448e-86b7-9eed6b2b7909"
      },
      "source": [
        "table = user.loc[(user['users'] > 0) & (user['visits'] == 0)]\r\n",
        "table[table['group_id'] > 8]"
      ],
      "execution_count": null,
      "outputs": [
        {
          "output_type": "execute_result",
          "data": {
            "text/html": [
              "<div>\n",
              "<style scoped>\n",
              "    .dataframe tbody tr th:only-of-type {\n",
              "        vertical-align: middle;\n",
              "    }\n",
              "\n",
              "    .dataframe tbody tr th {\n",
              "        vertical-align: top;\n",
              "    }\n",
              "\n",
              "    .dataframe thead th {\n",
              "        text-align: right;\n",
              "    }\n",
              "</style>\n",
              "<table border=\"1\" class=\"dataframe\">\n",
              "  <thead>\n",
              "    <tr style=\"text-align: right;\">\n",
              "      <th></th>\n",
              "      <th>group_id</th>\n",
              "      <th>metric_value</th>\n",
              "      <th>users</th>\n",
              "      <th>visits</th>\n",
              "      <th>churn_users</th>\n",
              "      <th>churn_visits</th>\n",
              "      <th>group</th>\n",
              "    </tr>\n",
              "  </thead>\n",
              "  <tbody>\n",
              "    <tr>\n",
              "      <th>27</th>\n",
              "      <td>15</td>\n",
              "      <td>5181.976</td>\n",
              "      <td>1</td>\n",
              "      <td>0</td>\n",
              "      <td>0</td>\n",
              "      <td>9</td>\n",
              "      <td>B</td>\n",
              "    </tr>\n",
              "    <tr>\n",
              "      <th>89</th>\n",
              "      <td>16</td>\n",
              "      <td>7727.976</td>\n",
              "      <td>1</td>\n",
              "      <td>0</td>\n",
              "      <td>1</td>\n",
              "      <td>5</td>\n",
              "      <td>B</td>\n",
              "    </tr>\n",
              "    <tr>\n",
              "      <th>178</th>\n",
              "      <td>10</td>\n",
              "      <td>5499.976</td>\n",
              "      <td>1</td>\n",
              "      <td>0</td>\n",
              "      <td>1</td>\n",
              "      <td>7</td>\n",
              "      <td>B</td>\n",
              "    </tr>\n",
              "    <tr>\n",
              "      <th>225</th>\n",
              "      <td>13</td>\n",
              "      <td>8428.976</td>\n",
              "      <td>1</td>\n",
              "      <td>0</td>\n",
              "      <td>1</td>\n",
              "      <td>4</td>\n",
              "      <td>B</td>\n",
              "    </tr>\n",
              "    <tr>\n",
              "      <th>297</th>\n",
              "      <td>14</td>\n",
              "      <td>7351.976</td>\n",
              "      <td>1</td>\n",
              "      <td>0</td>\n",
              "      <td>0</td>\n",
              "      <td>7</td>\n",
              "      <td>B</td>\n",
              "    </tr>\n",
              "    <tr>\n",
              "      <th>...</th>\n",
              "      <td>...</td>\n",
              "      <td>...</td>\n",
              "      <td>...</td>\n",
              "      <td>...</td>\n",
              "      <td>...</td>\n",
              "      <td>...</td>\n",
              "      <td>...</td>\n",
              "    </tr>\n",
              "    <tr>\n",
              "      <th>4784</th>\n",
              "      <td>12</td>\n",
              "      <td>9660.976</td>\n",
              "      <td>1</td>\n",
              "      <td>0</td>\n",
              "      <td>1</td>\n",
              "      <td>7</td>\n",
              "      <td>B</td>\n",
              "    </tr>\n",
              "    <tr>\n",
              "      <th>4842</th>\n",
              "      <td>10</td>\n",
              "      <td>7119.976</td>\n",
              "      <td>1</td>\n",
              "      <td>0</td>\n",
              "      <td>1</td>\n",
              "      <td>9</td>\n",
              "      <td>B</td>\n",
              "    </tr>\n",
              "    <tr>\n",
              "      <th>4881</th>\n",
              "      <td>13</td>\n",
              "      <td>5083.976</td>\n",
              "      <td>1</td>\n",
              "      <td>0</td>\n",
              "      <td>1</td>\n",
              "      <td>4</td>\n",
              "      <td>B</td>\n",
              "    </tr>\n",
              "    <tr>\n",
              "      <th>4887</th>\n",
              "      <td>13</td>\n",
              "      <td>5168.976</td>\n",
              "      <td>1</td>\n",
              "      <td>0</td>\n",
              "      <td>1</td>\n",
              "      <td>5</td>\n",
              "      <td>B</td>\n",
              "    </tr>\n",
              "    <tr>\n",
              "      <th>4960</th>\n",
              "      <td>11</td>\n",
              "      <td>7034.976</td>\n",
              "      <td>1</td>\n",
              "      <td>0</td>\n",
              "      <td>1</td>\n",
              "      <td>7</td>\n",
              "      <td>B</td>\n",
              "    </tr>\n",
              "  </tbody>\n",
              "</table>\n",
              "<p>112 rows × 7 columns</p>\n",
              "</div>"
            ],
            "text/plain": [
              "      group_id  metric_value  users  visits  churn_users  churn_visits group\n",
              "27          15      5181.976      1       0            0             9     B\n",
              "89          16      7727.976      1       0            1             5     B\n",
              "178         10      5499.976      1       0            1             7     B\n",
              "225         13      8428.976      1       0            1             4     B\n",
              "297         14      7351.976      1       0            0             7     B\n",
              "...        ...           ...    ...     ...          ...           ...   ...\n",
              "4784        12      9660.976      1       0            1             7     B\n",
              "4842        10      7119.976      1       0            1             9     B\n",
              "4881        13      5083.976      1       0            1             4     B\n",
              "4887        13      5168.976      1       0            1             5     B\n",
              "4960        11      7034.976      1       0            1             7     B\n",
              "\n",
              "[112 rows x 7 columns]"
            ]
          },
          "metadata": {
            "tags": []
          },
          "execution_count": 352
        }
      ]
    },
    {
      "cell_type": "code",
      "metadata": {
        "colab": {
          "base_uri": "https://localhost:8080/"
        },
        "id": "2rODYc6X3Wca",
        "outputId": "1d869c15-10d7-4f34-beb5-cc3831f89dd3"
      },
      "source": [
        "mean_a = user[user['group_id'] <= 8]['visits'].mean()\r\n",
        "mean_b = user[user['group_id'] > 8]['visits'].mean()\r\n",
        "print(mean_a, mean_b)"
      ],
      "execution_count": null,
      "outputs": [
        {
          "output_type": "stream",
          "text": [
            "4.839657282741738 4.553942722636328\n"
          ],
          "name": "stdout"
        }
      ]
    },
    {
      "cell_type": "code",
      "metadata": {
        "id": "L4pfx_ajFF33"
      },
      "source": [
        "user.loc[(user['visits'] == 0) & (user['users'] !=0) & (user['group_id'] <= 8), 'visits'] = np.round(mean_a)\r\n",
        "user.loc[(user['visits'] == 0) & (user['users'] !=0) & (user['group_id'] > 8), 'visits'] = randint(4, 6)\r\n"
      ],
      "execution_count": null,
      "outputs": []
    },
    {
      "cell_type": "code",
      "metadata": {
        "colab": {
          "base_uri": "https://localhost:8080/",
          "height": 47
        },
        "id": "mVMJ2ld9Gk6y",
        "outputId": "6ca9f7cb-f9fd-4d8a-febb-8b90b0b2dd76"
      },
      "source": [
        "table = user.loc[(user['users'] != 0) & (user['visits'] == 0)]\r\n",
        "table"
      ],
      "execution_count": null,
      "outputs": [
        {
          "output_type": "execute_result",
          "data": {
            "text/html": [
              "<div>\n",
              "<style scoped>\n",
              "    .dataframe tbody tr th:only-of-type {\n",
              "        vertical-align: middle;\n",
              "    }\n",
              "\n",
              "    .dataframe tbody tr th {\n",
              "        vertical-align: top;\n",
              "    }\n",
              "\n",
              "    .dataframe thead th {\n",
              "        text-align: right;\n",
              "    }\n",
              "</style>\n",
              "<table border=\"1\" class=\"dataframe\">\n",
              "  <thead>\n",
              "    <tr style=\"text-align: right;\">\n",
              "      <th></th>\n",
              "      <th>group_id</th>\n",
              "      <th>metric_value</th>\n",
              "      <th>users</th>\n",
              "      <th>visits</th>\n",
              "      <th>churn_users</th>\n",
              "      <th>churn_visits</th>\n",
              "      <th>group</th>\n",
              "    </tr>\n",
              "  </thead>\n",
              "  <tbody>\n",
              "  </tbody>\n",
              "</table>\n",
              "</div>"
            ],
            "text/plain": [
              "Empty DataFrame\n",
              "Columns: [group_id, metric_value, users, visits, churn_users, churn_visits, group]\n",
              "Index: []"
            ]
          },
          "metadata": {
            "tags": []
          },
          "execution_count": 340
        }
      ]
    },
    {
      "cell_type": "code",
      "metadata": {
        "colab": {
          "base_uri": "https://localhost:8080/",
          "height": 521
        },
        "id": "O2s56Ab-ElAm",
        "outputId": "146fdc97-790d-4de5-8077-cad95949d0ea"
      },
      "source": [
        "bucket = user.groupby('group_id').sum()\r\n",
        "bucket.reset_index(level=0, inplace=True)\r\n",
        "bucket"
      ],
      "execution_count": null,
      "outputs": [
        {
          "output_type": "execute_result",
          "data": {
            "text/html": [
              "<div>\n",
              "<style scoped>\n",
              "    .dataframe tbody tr th:only-of-type {\n",
              "        vertical-align: middle;\n",
              "    }\n",
              "\n",
              "    .dataframe tbody tr th {\n",
              "        vertical-align: top;\n",
              "    }\n",
              "\n",
              "    .dataframe thead th {\n",
              "        text-align: right;\n",
              "    }\n",
              "</style>\n",
              "<table border=\"1\" class=\"dataframe\">\n",
              "  <thead>\n",
              "    <tr style=\"text-align: right;\">\n",
              "      <th></th>\n",
              "      <th>group_id</th>\n",
              "      <th>metric_value</th>\n",
              "      <th>users</th>\n",
              "      <th>visits</th>\n",
              "      <th>churn_users</th>\n",
              "      <th>churn_visits</th>\n",
              "    </tr>\n",
              "  </thead>\n",
              "  <tbody>\n",
              "    <tr>\n",
              "      <th>0</th>\n",
              "      <td>1</td>\n",
              "      <td>1875345.000</td>\n",
              "      <td>155</td>\n",
              "      <td>1504.0</td>\n",
              "      <td>151</td>\n",
              "      <td>2207</td>\n",
              "    </tr>\n",
              "    <tr>\n",
              "      <th>1</th>\n",
              "      <td>2</td>\n",
              "      <td>1662237.000</td>\n",
              "      <td>138</td>\n",
              "      <td>1385.0</td>\n",
              "      <td>127</td>\n",
              "      <td>1853</td>\n",
              "    </tr>\n",
              "    <tr>\n",
              "      <th>2</th>\n",
              "      <td>3</td>\n",
              "      <td>1784372.000</td>\n",
              "      <td>128</td>\n",
              "      <td>1316.0</td>\n",
              "      <td>159</td>\n",
              "      <td>2032</td>\n",
              "    </tr>\n",
              "    <tr>\n",
              "      <th>3</th>\n",
              "      <td>4</td>\n",
              "      <td>1876826.000</td>\n",
              "      <td>163</td>\n",
              "      <td>1694.0</td>\n",
              "      <td>168</td>\n",
              "      <td>2172</td>\n",
              "    </tr>\n",
              "    <tr>\n",
              "      <th>4</th>\n",
              "      <td>5</td>\n",
              "      <td>1913180.000</td>\n",
              "      <td>156</td>\n",
              "      <td>1770.0</td>\n",
              "      <td>174</td>\n",
              "      <td>2273</td>\n",
              "    </tr>\n",
              "    <tr>\n",
              "      <th>5</th>\n",
              "      <td>6</td>\n",
              "      <td>1733079.000</td>\n",
              "      <td>144</td>\n",
              "      <td>1564.0</td>\n",
              "      <td>141</td>\n",
              "      <td>2009</td>\n",
              "    </tr>\n",
              "    <tr>\n",
              "      <th>6</th>\n",
              "      <td>7</td>\n",
              "      <td>1864555.000</td>\n",
              "      <td>151</td>\n",
              "      <td>1551.0</td>\n",
              "      <td>161</td>\n",
              "      <td>2139</td>\n",
              "    </tr>\n",
              "    <tr>\n",
              "      <th>7</th>\n",
              "      <td>8</td>\n",
              "      <td>2029143.000</td>\n",
              "      <td>162</td>\n",
              "      <td>1603.0</td>\n",
              "      <td>153</td>\n",
              "      <td>2299</td>\n",
              "    </tr>\n",
              "    <tr>\n",
              "      <th>8</th>\n",
              "      <td>9</td>\n",
              "      <td>2047289.536</td>\n",
              "      <td>143</td>\n",
              "      <td>1440.0</td>\n",
              "      <td>242</td>\n",
              "      <td>2191</td>\n",
              "    </tr>\n",
              "    <tr>\n",
              "      <th>9</th>\n",
              "      <td>10</td>\n",
              "      <td>2228154.648</td>\n",
              "      <td>179</td>\n",
              "      <td>1867.0</td>\n",
              "      <td>265</td>\n",
              "      <td>2518</td>\n",
              "    </tr>\n",
              "    <tr>\n",
              "      <th>10</th>\n",
              "      <td>11</td>\n",
              "      <td>1876015.920</td>\n",
              "      <td>150</td>\n",
              "      <td>1520.0</td>\n",
              "      <td>226</td>\n",
              "      <td>2062</td>\n",
              "    </tr>\n",
              "    <tr>\n",
              "      <th>11</th>\n",
              "      <td>12</td>\n",
              "      <td>2102859.224</td>\n",
              "      <td>149</td>\n",
              "      <td>1391.0</td>\n",
              "      <td>261</td>\n",
              "      <td>2257</td>\n",
              "    </tr>\n",
              "    <tr>\n",
              "      <th>12</th>\n",
              "      <td>13</td>\n",
              "      <td>2079287.344</td>\n",
              "      <td>155</td>\n",
              "      <td>1320.0</td>\n",
              "      <td>257</td>\n",
              "      <td>2248</td>\n",
              "    </tr>\n",
              "    <tr>\n",
              "      <th>13</th>\n",
              "      <td>14</td>\n",
              "      <td>2127954.032</td>\n",
              "      <td>166</td>\n",
              "      <td>1453.0</td>\n",
              "      <td>256</td>\n",
              "      <td>2215</td>\n",
              "    </tr>\n",
              "    <tr>\n",
              "      <th>14</th>\n",
              "      <td>15</td>\n",
              "      <td>1887384.920</td>\n",
              "      <td>161</td>\n",
              "      <td>1536.0</td>\n",
              "      <td>224</td>\n",
              "      <td>2015</td>\n",
              "    </tr>\n",
              "    <tr>\n",
              "      <th>15</th>\n",
              "      <td>16</td>\n",
              "      <td>2082370.200</td>\n",
              "      <td>159</td>\n",
              "      <td>1529.0</td>\n",
              "      <td>273</td>\n",
              "      <td>2287</td>\n",
              "    </tr>\n",
              "  </tbody>\n",
              "</table>\n",
              "</div>"
            ],
            "text/plain": [
              "    group_id  metric_value  users  visits  churn_users  churn_visits\n",
              "0          1   1875345.000    155  1504.0          151          2207\n",
              "1          2   1662237.000    138  1385.0          127          1853\n",
              "2          3   1784372.000    128  1316.0          159          2032\n",
              "3          4   1876826.000    163  1694.0          168          2172\n",
              "4          5   1913180.000    156  1770.0          174          2273\n",
              "5          6   1733079.000    144  1564.0          141          2009\n",
              "6          7   1864555.000    151  1551.0          161          2139\n",
              "7          8   2029143.000    162  1603.0          153          2299\n",
              "8          9   2047289.536    143  1440.0          242          2191\n",
              "9         10   2228154.648    179  1867.0          265          2518\n",
              "10        11   1876015.920    150  1520.0          226          2062\n",
              "11        12   2102859.224    149  1391.0          261          2257\n",
              "12        13   2079287.344    155  1320.0          257          2248\n",
              "13        14   2127954.032    166  1453.0          256          2215\n",
              "14        15   1887384.920    161  1536.0          224          2015\n",
              "15        16   2082370.200    159  1529.0          273          2287"
            ]
          },
          "metadata": {
            "tags": []
          },
          "execution_count": 341
        }
      ]
    },
    {
      "cell_type": "code",
      "metadata": {
        "colab": {
          "base_uri": "https://localhost:8080/",
          "height": 284
        },
        "id": "DcFRH81NRz5k",
        "outputId": "306280fe-04c7-4eb8-a283-f7cfa0844e35"
      },
      "source": [
        "user.describe()"
      ],
      "execution_count": null,
      "outputs": [
        {
          "output_type": "execute_result",
          "data": {
            "text/html": [
              "<div>\n",
              "<style scoped>\n",
              "    .dataframe tbody tr th:only-of-type {\n",
              "        vertical-align: middle;\n",
              "    }\n",
              "\n",
              "    .dataframe tbody tr th {\n",
              "        vertical-align: top;\n",
              "    }\n",
              "\n",
              "    .dataframe thead th {\n",
              "        text-align: right;\n",
              "    }\n",
              "</style>\n",
              "<table border=\"1\" class=\"dataframe\">\n",
              "  <thead>\n",
              "    <tr style=\"text-align: right;\">\n",
              "      <th></th>\n",
              "      <th>group_id</th>\n",
              "      <th>metric_value</th>\n",
              "      <th>users</th>\n",
              "      <th>visits</th>\n",
              "      <th>churn_users</th>\n",
              "      <th>churn_visits</th>\n",
              "    </tr>\n",
              "  </thead>\n",
              "  <tbody>\n",
              "    <tr>\n",
              "      <th>count</th>\n",
              "      <td>5000.0000</td>\n",
              "      <td>5000.000000</td>\n",
              "      <td>5000.000000</td>\n",
              "      <td>5000.000000</td>\n",
              "      <td>5000.000000</td>\n",
              "      <td>5000.000000</td>\n",
              "    </tr>\n",
              "    <tr>\n",
              "      <th>mean</th>\n",
              "      <td>8.5982</td>\n",
              "      <td>6234.010565</td>\n",
              "      <td>0.491800</td>\n",
              "      <td>4.888600</td>\n",
              "      <td>0.647600</td>\n",
              "      <td>6.955400</td>\n",
              "    </tr>\n",
              "    <tr>\n",
              "      <th>std</th>\n",
              "      <td>4.5846</td>\n",
              "      <td>1724.183324</td>\n",
              "      <td>0.499983</td>\n",
              "      <td>8.410561</td>\n",
              "      <td>0.477766</td>\n",
              "      <td>1.937153</td>\n",
              "    </tr>\n",
              "    <tr>\n",
              "      <th>min</th>\n",
              "      <td>1.0000</td>\n",
              "      <td>1343.000000</td>\n",
              "      <td>0.000000</td>\n",
              "      <td>0.000000</td>\n",
              "      <td>0.000000</td>\n",
              "      <td>0.000000</td>\n",
              "    </tr>\n",
              "    <tr>\n",
              "      <th>25%</th>\n",
              "      <td>5.0000</td>\n",
              "      <td>4978.000000</td>\n",
              "      <td>0.000000</td>\n",
              "      <td>0.000000</td>\n",
              "      <td>0.000000</td>\n",
              "      <td>6.000000</td>\n",
              "    </tr>\n",
              "    <tr>\n",
              "      <th>50%</th>\n",
              "      <td>9.0000</td>\n",
              "      <td>6242.488000</td>\n",
              "      <td>0.000000</td>\n",
              "      <td>0.000000</td>\n",
              "      <td>1.000000</td>\n",
              "      <td>7.000000</td>\n",
              "    </tr>\n",
              "    <tr>\n",
              "      <th>75%</th>\n",
              "      <td>13.0000</td>\n",
              "      <td>7543.976000</td>\n",
              "      <td>1.000000</td>\n",
              "      <td>6.000000</td>\n",
              "      <td>1.000000</td>\n",
              "      <td>9.000000</td>\n",
              "    </tr>\n",
              "    <tr>\n",
              "      <th>max</th>\n",
              "      <td>16.0000</td>\n",
              "      <td>10862.000000</td>\n",
              "      <td>1.000000</td>\n",
              "      <td>70.000000</td>\n",
              "      <td>1.000000</td>\n",
              "      <td>9.000000</td>\n",
              "    </tr>\n",
              "  </tbody>\n",
              "</table>\n",
              "</div>"
            ],
            "text/plain": [
              "        group_id  metric_value  ...  churn_users  churn_visits\n",
              "count  5000.0000   5000.000000  ...  5000.000000   5000.000000\n",
              "mean      8.5982   6234.010565  ...     0.647600      6.955400\n",
              "std       4.5846   1724.183324  ...     0.477766      1.937153\n",
              "min       1.0000   1343.000000  ...     0.000000      0.000000\n",
              "25%       5.0000   4978.000000  ...     0.000000      6.000000\n",
              "50%       9.0000   6242.488000  ...     1.000000      7.000000\n",
              "75%      13.0000   7543.976000  ...     1.000000      9.000000\n",
              "max      16.0000  10862.000000  ...     1.000000      9.000000\n",
              "\n",
              "[8 rows x 6 columns]"
            ]
          },
          "metadata": {
            "tags": []
          },
          "execution_count": 291
        }
      ]
    },
    {
      "cell_type": "code",
      "metadata": {
        "id": "mEvqQxBp4Zhu"
      },
      "source": [
        "A_user = user[user['group_id'] <= 8]\n",
        "B_user = user[user['group_id'] >= 9]\n",
        "A_bucket = bucket[bucket['group_id'] <= 8]\n",
        "B_bucket = bucket[bucket['group_id'] >= 9]"
      ],
      "execution_count": null,
      "outputs": []
    },
    {
      "cell_type": "code",
      "metadata": {
        "colab": {
          "base_uri": "https://localhost:8080/",
          "height": 284
        },
        "id": "ii1wW7XOs-Ql",
        "outputId": "8d3ba330-0fea-4671-c1bf-4c1ab2113e3a"
      },
      "source": [
        "A_user.describe()"
      ],
      "execution_count": null,
      "outputs": [
        {
          "output_type": "execute_result",
          "data": {
            "text/html": [
              "<div>\n",
              "<style scoped>\n",
              "    .dataframe tbody tr th:only-of-type {\n",
              "        vertical-align: middle;\n",
              "    }\n",
              "\n",
              "    .dataframe tbody tr th {\n",
              "        vertical-align: top;\n",
              "    }\n",
              "\n",
              "    .dataframe thead th {\n",
              "        text-align: right;\n",
              "    }\n",
              "</style>\n",
              "<table border=\"1\" class=\"dataframe\">\n",
              "  <thead>\n",
              "    <tr style=\"text-align: right;\">\n",
              "      <th></th>\n",
              "      <th>group_id</th>\n",
              "      <th>metric_value</th>\n",
              "      <th>users</th>\n",
              "      <th>visits</th>\n",
              "      <th>churn_users</th>\n",
              "      <th>churn_visits</th>\n",
              "    </tr>\n",
              "  </thead>\n",
              "  <tbody>\n",
              "    <tr>\n",
              "      <th>count</th>\n",
              "      <td>2451.000000</td>\n",
              "      <td>2451.000000</td>\n",
              "      <td>2451.000000</td>\n",
              "      <td>2451.000000</td>\n",
              "      <td>2451.000000</td>\n",
              "      <td>2451.000000</td>\n",
              "    </tr>\n",
              "    <tr>\n",
              "      <th>mean</th>\n",
              "      <td>4.552836</td>\n",
              "      <td>6013.356589</td>\n",
              "      <td>0.488372</td>\n",
              "      <td>4.839657</td>\n",
              "      <td>0.503468</td>\n",
              "      <td>6.929417</td>\n",
              "    </tr>\n",
              "    <tr>\n",
              "      <th>std</th>\n",
              "      <td>2.304557</td>\n",
              "      <td>1706.147953</td>\n",
              "      <td>0.499967</td>\n",
              "      <td>8.789929</td>\n",
              "      <td>0.500090</td>\n",
              "      <td>1.944200</td>\n",
              "    </tr>\n",
              "    <tr>\n",
              "      <th>min</th>\n",
              "      <td>1.000000</td>\n",
              "      <td>1343.000000</td>\n",
              "      <td>0.000000</td>\n",
              "      <td>0.000000</td>\n",
              "      <td>0.000000</td>\n",
              "      <td>0.000000</td>\n",
              "    </tr>\n",
              "    <tr>\n",
              "      <th>25%</th>\n",
              "      <td>3.000000</td>\n",
              "      <td>4744.000000</td>\n",
              "      <td>0.000000</td>\n",
              "      <td>0.000000</td>\n",
              "      <td>0.000000</td>\n",
              "      <td>6.000000</td>\n",
              "    </tr>\n",
              "    <tr>\n",
              "      <th>50%</th>\n",
              "      <td>5.000000</td>\n",
              "      <td>6035.000000</td>\n",
              "      <td>0.000000</td>\n",
              "      <td>0.000000</td>\n",
              "      <td>1.000000</td>\n",
              "      <td>7.000000</td>\n",
              "    </tr>\n",
              "    <tr>\n",
              "      <th>75%</th>\n",
              "      <td>7.000000</td>\n",
              "      <td>7303.500000</td>\n",
              "      <td>1.000000</td>\n",
              "      <td>6.000000</td>\n",
              "      <td>1.000000</td>\n",
              "      <td>9.000000</td>\n",
              "    </tr>\n",
              "    <tr>\n",
              "      <th>max</th>\n",
              "      <td>8.000000</td>\n",
              "      <td>10862.000000</td>\n",
              "      <td>1.000000</td>\n",
              "      <td>66.000000</td>\n",
              "      <td>1.000000</td>\n",
              "      <td>9.000000</td>\n",
              "    </tr>\n",
              "  </tbody>\n",
              "</table>\n",
              "</div>"
            ],
            "text/plain": [
              "          group_id  metric_value  ...  churn_users  churn_visits\n",
              "count  2451.000000   2451.000000  ...  2451.000000   2451.000000\n",
              "mean      4.552836   6013.356589  ...     0.503468      6.929417\n",
              "std       2.304557   1706.147953  ...     0.500090      1.944200\n",
              "min       1.000000   1343.000000  ...     0.000000      0.000000\n",
              "25%       3.000000   4744.000000  ...     0.000000      6.000000\n",
              "50%       5.000000   6035.000000  ...     1.000000      7.000000\n",
              "75%       7.000000   7303.500000  ...     1.000000      9.000000\n",
              "max       8.000000  10862.000000  ...     1.000000      9.000000\n",
              "\n",
              "[8 rows x 6 columns]"
            ]
          },
          "metadata": {
            "tags": []
          },
          "execution_count": 337
        }
      ]
    },
    {
      "cell_type": "code",
      "metadata": {
        "colab": {
          "base_uri": "https://localhost:8080/",
          "height": 284
        },
        "id": "lzm2dpc8tBur",
        "outputId": "b14f0444-6f3a-496a-f2d4-4a64d54b58f3"
      },
      "source": [
        "B_user.describe()"
      ],
      "execution_count": null,
      "outputs": [
        {
          "output_type": "execute_result",
          "data": {
            "text/html": [
              "<div>\n",
              "<style scoped>\n",
              "    .dataframe tbody tr th:only-of-type {\n",
              "        vertical-align: middle;\n",
              "    }\n",
              "\n",
              "    .dataframe tbody tr th {\n",
              "        vertical-align: top;\n",
              "    }\n",
              "\n",
              "    .dataframe thead th {\n",
              "        text-align: right;\n",
              "    }\n",
              "</style>\n",
              "<table border=\"1\" class=\"dataframe\">\n",
              "  <thead>\n",
              "    <tr style=\"text-align: right;\">\n",
              "      <th></th>\n",
              "      <th>group_id</th>\n",
              "      <th>metric_value</th>\n",
              "      <th>users</th>\n",
              "      <th>visits</th>\n",
              "      <th>churn_users</th>\n",
              "      <th>churn_visits</th>\n",
              "    </tr>\n",
              "  </thead>\n",
              "  <tbody>\n",
              "    <tr>\n",
              "      <th>count</th>\n",
              "      <td>2549.000000</td>\n",
              "      <td>2549.000000</td>\n",
              "      <td>2549.000000</td>\n",
              "      <td>2549.000000</td>\n",
              "      <td>2549.000000</td>\n",
              "      <td>2549.000000</td>\n",
              "    </tr>\n",
              "    <tr>\n",
              "      <th>mean</th>\n",
              "      <td>12.488035</td>\n",
              "      <td>6446.181179</td>\n",
              "      <td>0.495096</td>\n",
              "      <td>4.729698</td>\n",
              "      <td>0.786191</td>\n",
              "      <td>6.980384</td>\n",
              "    </tr>\n",
              "    <tr>\n",
              "      <th>std</th>\n",
              "      <td>2.291621</td>\n",
              "      <td>1715.107559</td>\n",
              "      <td>0.500074</td>\n",
              "      <td>8.089976</td>\n",
              "      <td>0.410074</td>\n",
              "      <td>1.930404</td>\n",
              "    </tr>\n",
              "    <tr>\n",
              "      <th>min</th>\n",
              "      <td>9.000000</td>\n",
              "      <td>1616.976000</td>\n",
              "      <td>0.000000</td>\n",
              "      <td>0.000000</td>\n",
              "      <td>0.000000</td>\n",
              "      <td>0.000000</td>\n",
              "    </tr>\n",
              "    <tr>\n",
              "      <th>25%</th>\n",
              "      <td>10.000000</td>\n",
              "      <td>5167.976000</td>\n",
              "      <td>0.000000</td>\n",
              "      <td>0.000000</td>\n",
              "      <td>1.000000</td>\n",
              "      <td>6.000000</td>\n",
              "    </tr>\n",
              "    <tr>\n",
              "      <th>50%</th>\n",
              "      <td>12.000000</td>\n",
              "      <td>6454.976000</td>\n",
              "      <td>0.000000</td>\n",
              "      <td>0.000000</td>\n",
              "      <td>1.000000</td>\n",
              "      <td>7.000000</td>\n",
              "    </tr>\n",
              "    <tr>\n",
              "      <th>75%</th>\n",
              "      <td>14.000000</td>\n",
              "      <td>7765.976000</td>\n",
              "      <td>1.000000</td>\n",
              "      <td>6.000000</td>\n",
              "      <td>1.000000</td>\n",
              "      <td>9.000000</td>\n",
              "    </tr>\n",
              "    <tr>\n",
              "      <th>max</th>\n",
              "      <td>16.000000</td>\n",
              "      <td>10784.976000</td>\n",
              "      <td>1.000000</td>\n",
              "      <td>70.000000</td>\n",
              "      <td>1.000000</td>\n",
              "      <td>9.000000</td>\n",
              "    </tr>\n",
              "  </tbody>\n",
              "</table>\n",
              "</div>"
            ],
            "text/plain": [
              "          group_id  metric_value  ...  churn_users  churn_visits\n",
              "count  2549.000000   2549.000000  ...  2549.000000   2549.000000\n",
              "mean     12.488035   6446.181179  ...     0.786191      6.980384\n",
              "std       2.291621   1715.107559  ...     0.410074      1.930404\n",
              "min       9.000000   1616.976000  ...     0.000000      0.000000\n",
              "25%      10.000000   5167.976000  ...     1.000000      6.000000\n",
              "50%      12.000000   6454.976000  ...     1.000000      7.000000\n",
              "75%      14.000000   7765.976000  ...     1.000000      9.000000\n",
              "max      16.000000  10784.976000  ...     1.000000      9.000000\n",
              "\n",
              "[8 rows x 6 columns]"
            ]
          },
          "metadata": {
            "tags": []
          },
          "execution_count": 294
        }
      ]
    },
    {
      "cell_type": "markdown",
      "metadata": {
        "id": "suzw_vubPPWq"
      },
      "source": [
        "# Исследуем различные метрики"
      ]
    },
    {
      "cell_type": "markdown",
      "metadata": {
        "id": "QR_qzoVXsqCS"
      },
      "source": [
        "## Гистограммы распределения metric_value"
      ]
    },
    {
      "cell_type": "code",
      "metadata": {
        "colab": {
          "base_uri": "https://localhost:8080/",
          "height": 282
        },
        "id": "-IRZVaFfYg8J",
        "outputId": "70ac066b-9a27-450d-c818-805d2731b892"
      },
      "source": [
        "A_user['metric_value'].hist()"
      ],
      "execution_count": null,
      "outputs": [
        {
          "output_type": "execute_result",
          "data": {
            "text/plain": [
              "<matplotlib.axes._subplots.AxesSubplot at 0x7f6a941c8710>"
            ]
          },
          "metadata": {
            "tags": []
          },
          "execution_count": 356
        },
        {
          "output_type": "display_data",
          "data": {
            "image/png": "[encoded data removed]",
            "text/plain": [
              "<Figure size 432x288 with 1 Axes>"
            ]
          },
          "metadata": {
            "tags": [],
            "needs_background": "light"
          }
        }
      ]
    },
    {
      "cell_type": "code",
      "metadata": {
        "colab": {
          "base_uri": "https://localhost:8080/",
          "height": 282
        },
        "id": "jI9X0M7zQvy_",
        "outputId": "46bd54ec-63f3-44b7-dfb2-669be15865e8"
      },
      "source": [
        "B_user['metric_value'].hist(bins = 20)"
      ],
      "execution_count": null,
      "outputs": [
        {
          "output_type": "execute_result",
          "data": {
            "text/plain": [
              "<matplotlib.axes._subplots.AxesSubplot at 0x7f6a946400f0>"
            ]
          },
          "metadata": {
            "tags": []
          },
          "execution_count": 357
        },
        {
          "output_type": "display_data",
          "data": {
            "image/png": "[encoded data removed]",
            "text/plain": [
              "<Figure size 432x288 with 1 Axes>"
            ]
          },
          "metadata": {
            "tags": [],
            "needs_background": "light"
          }
        }
      ]
    },
    {
      "cell_type": "code",
      "metadata": {
        "colab": {
          "base_uri": "https://localhost:8080/",
          "height": 374
        },
        "id": "PCzwj85PDtLk",
        "outputId": "c7e3f054-843e-4b08-c07b-9ed66e070acd"
      },
      "source": [
        "plt.figure(figsize=(10,5))\r\n",
        "plt.hist([A_user['metric_value'], B_user['metric_value']], label=['Group a', 'Group b'])\r\n",
        "plt.legend(loc='upper left')\r\n",
        "plt.show()"
      ],
      "execution_count": null,
      "outputs": [
        {
          "output_type": "stream",
          "text": [
            "/usr/local/lib/python3.6/dist-packages/numpy/core/_asarray.py:83: VisibleDeprecationWarning: Creating an ndarray from ragged nested sequences (which is a list-or-tuple of lists-or-tuples-or ndarrays with different lengths or shapes) is deprecated. If you meant to do this, you must specify 'dtype=object' when creating the ndarray\n",
            "  return array(a, dtype, copy=False, order=order)\n"
          ],
          "name": "stderr"
        },
        {
          "output_type": "display_data",
          "data": {
            "image/png": "[encoded data removed]",
            "text/plain": [
              "<Figure size 720x360 with 1 Axes>"
            ]
          },
          "metadata": {
            "tags": [],
            "needs_background": "light"
          }
        }
      ]
    },
    {
      "cell_type": "markdown",
      "metadata": {
        "id": "vqg0y_4xsu6D"
      },
      "source": [
        "Эмпирические функции распределения metric_value"
      ]
    },
    {
      "cell_type": "code",
      "metadata": {
        "colab": {
          "base_uri": "https://localhost:8080/",
          "height": 352
        },
        "id": "3mKmDrBQsoVT",
        "outputId": "50ef46a4-c187-4ff9-9a26-c16b85a5f288"
      },
      "source": [
        "x_axis = np.arange(1000,11000 , 0.1)\r\n",
        "sns_plot = sns.lineplot(x_axis, statsmodels.distributions.empirical_distribution.ECDF(A_user['metric_value'])(x_axis))\r\n",
        "sns_plot2 = sns.lineplot(x_axis, scs.norm.cdf(x_axis, loc = 6013, scale = 1706))\r\n",
        "fig = sns_plot.get_figure()\r\n",
        "fig = sns_plot2.get_figure()"
      ],
      "execution_count": null,
      "outputs": [
        {
          "output_type": "stream",
          "text": [
            "/usr/local/lib/python3.6/dist-packages/seaborn/_decorators.py:43: FutureWarning: Pass the following variables as keyword args: x, y. From version 0.12, the only valid positional argument will be `data`, and passing other arguments without an explicit keyword will result in an error or misinterpretation.\n",
            "  FutureWarning\n",
            "/usr/local/lib/python3.6/dist-packages/seaborn/_decorators.py:43: FutureWarning: Pass the following variables as keyword args: x, y. From version 0.12, the only valid positional argument will be `data`, and passing other arguments without an explicit keyword will result in an error or misinterpretation.\n",
            "  FutureWarning\n"
          ],
          "name": "stderr"
        },
        {
          "output_type": "display_data",
          "data": {
            "image/png": "[encoded data removed]",
            "text/plain": [
              "<Figure size 432x288 with 1 Axes>"
            ]
          },
          "metadata": {
            "tags": [],
            "needs_background": "light"
          }
        }
      ]
    },
    {
      "cell_type": "code",
      "metadata": {
        "colab": {
          "base_uri": "https://localhost:8080/",
          "height": 352
        },
        "id": "mX999CzKtFxV",
        "outputId": "ce838540-185b-48a5-dc45-97f8654784ad"
      },
      "source": [
        "x_axis = np.arange(1000,11000 , 0.1)\r\n",
        "sns_plot = sns.lineplot(x_axis, statsmodels.distributions.empirical_distribution.ECDF(B_user['metric_value'])(x_axis))\r\n",
        "sns_plot2 = sns.lineplot(x_axis, scs.norm.cdf(x_axis, loc = 6446, scale = 1706))\r\n",
        "fig = sns_plot.get_figure()\r\n",
        "fig = sns_plot2.get_figure()"
      ],
      "execution_count": null,
      "outputs": [
        {
          "output_type": "stream",
          "text": [
            "/usr/local/lib/python3.6/dist-packages/seaborn/_decorators.py:43: FutureWarning: Pass the following variables as keyword args: x, y. From version 0.12, the only valid positional argument will be `data`, and passing other arguments without an explicit keyword will result in an error or misinterpretation.\n",
            "  FutureWarning\n",
            "/usr/local/lib/python3.6/dist-packages/seaborn/_decorators.py:43: FutureWarning: Pass the following variables as keyword args: x, y. From version 0.12, the only valid positional argument will be `data`, and passing other arguments without an explicit keyword will result in an error or misinterpretation.\n",
            "  FutureWarning\n"
          ],
          "name": "stderr"
        },
        {
          "output_type": "display_data",
          "data": {
            "image/png": "[encoded data removed]",
            "text/plain": [
              "<Figure size 432x288 with 1 Axes>"
            ]
          },
          "metadata": {
            "tags": [],
            "needs_background": "light"
          }
        }
      ]
    },
    {
      "cell_type": "markdown",
      "metadata": {
        "id": "DIqaVyk7Ylkh"
      },
      "source": [
        " Оба графика имеют немного похожий на нормальное распределение вид, но верхняя граница сильно выпрямлена(особенно у B)"
      ]
    },
    {
      "cell_type": "markdown",
      "metadata": {
        "id": "pBOXdDFOZmVO"
      },
      "source": [
        "# Проведем тесты"
      ]
    },
    {
      "cell_type": "markdown",
      "metadata": {
        "id": "CAryQuX8jsCZ"
      },
      "source": [
        "## Для А"
      ]
    },
    {
      "cell_type": "code",
      "metadata": {
        "colab": {
          "base_uri": "https://localhost:8080/"
        },
        "id": "wnfW1hVUT9mW",
        "outputId": "76208187-ae89-4cc4-d92d-5979676f8ed8"
      },
      "source": [
        "alpha = 0.05\n",
        "\n",
        "st_a = scs.shapiro(A_user['metric_value'])\n",
        "print('Distribution is {}normal\\n'.format( {True:'not ', False:''}[st_a[1] < alpha]))\n",
        "print(st_a)"
      ],
      "execution_count": null,
      "outputs": [
        {
          "output_type": "stream",
          "text": [
            "Distribution is not normal\n",
            "\n",
            "(0.9951456189155579, 3.546447828739474e-07)\n"
          ],
          "name": "stdout"
        }
      ]
    },
    {
      "cell_type": "code",
      "metadata": {
        "colab": {
          "base_uri": "https://localhost:8080/"
        },
        "id": "y8l3isFeXOF6",
        "outputId": "774fb5a6-9840-418a-e837-2eb3f763c8e9"
      },
      "source": [
        "ks_a = scs.kstest(A_user['metric_value'], 'norm')\n",
        "print('Distribution is {}normal\\n'.format( {True:'not ', False:''}[ks_a[1] < alpha]))\n",
        "print(ks_a)"
      ],
      "execution_count": null,
      "outputs": [
        {
          "output_type": "stream",
          "text": [
            "Distribution is not normal\n",
            "\n",
            "KstestResult(statistic=1.0, pvalue=0.0)\n"
          ],
          "name": "stdout"
        }
      ]
    },
    {
      "cell_type": "code",
      "metadata": {
        "colab": {
          "base_uri": "https://localhost:8080/"
        },
        "id": "PwHRXFhFg9xM",
        "outputId": "41d4b128-d249-4c0a-b32a-75ea70422b8b"
      },
      "source": [
        "X_exp1_a = scs.norm.rvs(size = len(A_user['metric_value']) * 200, loc = 6013)\n",
        "X_exp_a = np.histogram(X_exp1_a)[0]/200\n",
        "chast_a = np.histogram(A_user['metric_value'])[0]\n",
        "ch_a = scs.chisquare(chast_a, X_exp_a)\n",
        "print('Distribution is {}normal\\n'.format( {True:'not ', False:''}[ch_a[1] < alpha]))\n",
        "print(ch_a)"
      ],
      "execution_count": null,
      "outputs": [
        {
          "output_type": "stream",
          "text": [
            "Distribution is not normal\n",
            "\n",
            "Power_divergenceResult(statistic=4406.939942255065, pvalue=0.0)\n"
          ],
          "name": "stdout"
        }
      ]
    },
    {
      "cell_type": "markdown",
      "metadata": {
        "id": "ubcmhV22jvak"
      },
      "source": [
        "# Для B"
      ]
    },
    {
      "cell_type": "code",
      "metadata": {
        "colab": {
          "base_uri": "https://localhost:8080/"
        },
        "id": "BnarHHf-juwr",
        "outputId": "6fd70ddf-df21-4cac-ded7-df5938b6b4df"
      },
      "source": [
        "st_b = scs.shapiro(B_user['metric_value'])\n",
        "print('Distribution is {}normal\\n'.format( {True:'not ', False:''}[st_b[1] < alpha]))\n",
        "print(st_b)"
      ],
      "execution_count": null,
      "outputs": [
        {
          "output_type": "stream",
          "text": [
            "Distribution is not normal\n",
            "\n",
            "(0.9923585057258606, 2.4686641619808825e-10)\n"
          ],
          "name": "stdout"
        }
      ]
    },
    {
      "cell_type": "code",
      "metadata": {
        "colab": {
          "base_uri": "https://localhost:8080/"
        },
        "id": "Bx_R1hYJjuzT",
        "outputId": "313fd135-4bc6-40a5-9b28-8aa533305af8"
      },
      "source": [
        "ks_b = scs.kstest(A_user['metric_value'], 'norm')\n",
        "print('Distribution is {}normal\\n'.format( {True:'not ', False:''}[ks_b[1] < alpha]))\n",
        "print(ks_b)"
      ],
      "execution_count": null,
      "outputs": [
        {
          "output_type": "stream",
          "text": [
            "Distribution is not normal\n",
            "\n",
            "KstestResult(statistic=1.0, pvalue=0.0)\n"
          ],
          "name": "stdout"
        }
      ]
    },
    {
      "cell_type": "code",
      "metadata": {
        "colab": {
          "base_uri": "https://localhost:8080/"
        },
        "id": "S02YB8aNju3c",
        "outputId": "cb5c5b93-0e85-42e4-8826-f74ec56a86c5"
      },
      "source": [
        "X_exp1_b = scs.norm.rvs(size = len(B_user['metric_value']) * 200, loc = 6013)\n",
        "X_exp_b = np.histogram(X_exp1_b)[0]/200\n",
        "chast_b = np.histogram(B_user['metric_value'])[0]\n",
        "ch_b = scs.chisquare(chast_b, X_exp_b)\n",
        "print('Distribution is {}normal\\n'.format( {True:'not ', False:''}[ch_b[1] < alpha]))\n",
        "print(ch_b)"
      ],
      "execution_count": null,
      "outputs": [
        {
          "output_type": "stream",
          "text": [
            "Distribution is not normal\n",
            "\n",
            "Power_divergenceResult(statistic=100939.78227215522, pvalue=0.0)\n"
          ],
          "name": "stdout"
        }
      ]
    },
    {
      "cell_type": "markdown",
      "metadata": {
        "id": "LGCnDOjni2Hf"
      },
      "source": [
        "## Все тесты показывают, что распределение ненормальное => нам необходимо использовать тесты, которые не требуют нормальности распределения"
      ]
    },
    {
      "cell_type": "code",
      "metadata": {
        "colab": {
          "base_uri": "https://localhost:8080/"
        },
        "id": "UDpIb0LyadF1",
        "outputId": "7454cbb6-88f9-4762-a6ee-227bec2152ac"
      },
      "source": [
        "def levene_test(df1, df2, p_value = alpha):\n",
        "  st = scs.levene(df1, df2)\n",
        "  print('Variances of distributions are {}equal\\n'.format( {True:'not ', False:''}[st[1] < p_value]))\n",
        "  return(st)\n",
        "levene_test(A_user['metric_value'], B_user['metric_value'], alpha)"
      ],
      "execution_count": null,
      "outputs": [
        {
          "output_type": "stream",
          "text": [
            "Variances of distributions are equal\n",
            "\n"
          ],
          "name": "stdout"
        },
        {
          "output_type": "execute_result",
          "data": {
            "text/plain": [
              "LeveneResult(statistic=0.8558572644772319, pvalue=0.35494527384691044)"
            ]
          },
          "metadata": {
            "tags": []
          },
          "execution_count": 309
        }
      ]
    },
    {
      "cell_type": "markdown",
      "metadata": {
        "id": "LTEFK-biktRU"
      },
      "source": [
        "# Дисперсии равны"
      ]
    },
    {
      "cell_type": "markdown",
      "metadata": {
        "id": "CCIYpBozdntu"
      },
      "source": [
        "# Оценка матожиданий\r\n",
        "\r\n"
      ]
    },
    {
      "cell_type": "code",
      "metadata": {
        "colab": {
          "base_uri": "https://localhost:8080/"
        },
        "id": "kfUtmGXdf0A1",
        "outputId": "b79cc5b7-c2aa-4bcc-bfde-235681a01af9"
      },
      "source": [
        "mn = scs.mannwhitneyu(A_user['metric_value'], B_user['metric_value'])\n",
        "print('Diffs is {}significant\\n'.format( {True:'not ', False:''}[mn[1] < alpha]))\n",
        "print(mn)"
      ],
      "execution_count": null,
      "outputs": [
        {
          "output_type": "stream",
          "text": [
            "Diffs is not significant\n",
            "\n",
            "MannwhitneyuResult(statistic=2693632.0, pvalue=1.723988060046619e-17)\n"
          ],
          "name": "stdout"
        }
      ]
    },
    {
      "cell_type": "markdown",
      "metadata": {
        "id": "JBWlngMTgogE"
      },
      "source": [
        "Матожидания равны"
      ]
    },
    {
      "cell_type": "code",
      "metadata": {
        "colab": {
          "base_uri": "https://localhost:8080/",
          "height": 573
        },
        "id": "6mfKWZ4XcJBk",
        "outputId": "0b3927e8-a2c3-4933-dafa-00dc9aa8a9ad"
      },
      "source": [
        "analysis = TTestIndPower()\n",
        "analysis.plot_power(nobs=np.arange(5, 100),\n",
        "effect_size=np.array([0.2, 0.5, 0.8])) "
      ],
      "execution_count": null,
      "outputs": [
        {
          "output_type": "execute_result",
          "data": {
            "image/png": "[encoded data removed]",
            "text/plain": [
              "<Figure size 432x288 with 1 Axes>"
            ]
          },
          "metadata": {
            "tags": []
          },
          "execution_count": 311
        },
        {
          "output_type": "display_data",
          "data": {
            "image/png": "[encoded data removed]",
            "text/plain": [
              "<Figure size 432x288 with 1 Axes>"
            ]
          },
          "metadata": {
            "tags": [],
            "needs_background": "light"
          }
        }
      ]
    },
    {
      "cell_type": "code",
      "metadata": {
        "colab": {
          "base_uri": "https://localhost:8080/"
        },
        "id": "cAgLMbJBgmc6",
        "outputId": "a5f88cbc-01a0-4a9a-986a-dee3ab8ae4eb"
      },
      "source": [
        "effect = 0.08\n",
        "alpha = 0.05\n",
        "power = 0.8\n",
        "# perform power analysis\n",
        "analysis = TTestIndPower()\n",
        "result = analysis.solve_power(effect, power=power,\n",
        "nobs1=None, ratio=1.0, alpha=alpha)\n",
        "print('Sample Size: %.3f' % result)"
      ],
      "execution_count": null,
      "outputs": [
        {
          "output_type": "stream",
          "text": [
            "Sample Size: 2453.730\n"
          ],
          "name": "stdout"
        }
      ]
    },
    {
      "cell_type": "markdown",
      "metadata": {
        "id": "GxUGKrMibBGh"
      },
      "source": [
        ""
      ]
    },
    {
      "cell_type": "markdown",
      "metadata": {
        "id": "qFna7iU-srmU"
      },
      "source": [
        "# Диаграмма размаха"
      ]
    },
    {
      "cell_type": "code",
      "metadata": {
        "colab": {
          "base_uri": "https://localhost:8080/",
          "height": 297
        },
        "id": "491Hq2njktiX",
        "outputId": "7498a519-70a1-4c1c-aa78-109d67edab2f"
      },
      "source": [
        "sns.boxplot(x = 'metric_value', y = 'group', data = user, palette = 'Set2')"
      ],
      "execution_count": null,
      "outputs": [
        {
          "output_type": "execute_result",
          "data": {
            "text/plain": [
              "<matplotlib.axes._subplots.AxesSubplot at 0x7f6a933c4dd8>"
            ]
          },
          "metadata": {
            "tags": []
          },
          "execution_count": 388
        },
        {
          "output_type": "display_data",
          "data": {
            "image/png": "[encoded data removed]",
            "text/plain": [
              "<Figure size 432x288 with 1 Axes>"
            ]
          },
          "metadata": {
            "tags": [],
            "needs_background": "light"
          }
        }
      ]
    },
    {
      "cell_type": "markdown",
      "metadata": {
        "id": "lXEQUul2PqIR"
      },
      "source": [
        "# Исследуем visits"
      ]
    },
    {
      "cell_type": "code",
      "metadata": {
        "colab": {
          "base_uri": "https://localhost:8080/",
          "height": 282
        },
        "id": "95OBPDP2Po5N",
        "outputId": "932c6b10-4165-442b-98fd-de196d2e39fc"
      },
      "source": [
        "A_user['visits'].hist()"
      ],
      "execution_count": null,
      "outputs": [
        {
          "output_type": "execute_result",
          "data": {
            "text/plain": [
              "<matplotlib.axes._subplots.AxesSubplot at 0x7f6a94236198>"
            ]
          },
          "metadata": {
            "tags": []
          },
          "execution_count": 364
        },
        {
          "output_type": "display_data",
          "data": {
            "image/png": "[encoded data removed]",
            "text/plain": [
              "<Figure size 432x288 with 1 Axes>"
            ]
          },
          "metadata": {
            "tags": [],
            "needs_background": "light"
          }
        }
      ]
    },
    {
      "cell_type": "code",
      "metadata": {
        "colab": {
          "base_uri": "https://localhost:8080/",
          "height": 284
        },
        "id": "hb7eqorSP1-d",
        "outputId": "b760d760-581d-4910-9efa-eaa1619cc311"
      },
      "source": [
        "B_user['visits'].hist()"
      ],
      "execution_count": null,
      "outputs": [
        {
          "output_type": "execute_result",
          "data": {
            "text/plain": [
              "<matplotlib.axes._subplots.AxesSubplot at 0x7f6a93afcc50>"
            ]
          },
          "metadata": {
            "tags": []
          },
          "execution_count": 363
        },
        {
          "output_type": "display_data",
          "data": {
            "image/png": "[encoded data removed]",
            "text/plain": [
              "<Figure size 432x288 with 1 Axes>"
            ]
          },
          "metadata": {
            "tags": [],
            "needs_background": "light"
          }
        }
      ]
    },
    {
      "cell_type": "code",
      "metadata": {
        "colab": {
          "base_uri": "https://localhost:8080/",
          "height": 374
        },
        "id": "VeFaH1-RQAI9",
        "outputId": "da06a0ce-3297-4f8d-f693-f44103148096"
      },
      "source": [
        "plt.figure(figsize=(10,5))\r\n",
        "plt.hist([A_user['visits'], B_user['visits']], label=['Group a', 'Group b'])\r\n",
        "plt.legend(loc='upper right')\r\n",
        "plt.show()"
      ],
      "execution_count": null,
      "outputs": [
        {
          "output_type": "stream",
          "text": [
            "/usr/local/lib/python3.6/dist-packages/numpy/core/_asarray.py:83: VisibleDeprecationWarning: Creating an ndarray from ragged nested sequences (which is a list-or-tuple of lists-or-tuples-or ndarrays with different lengths or shapes) is deprecated. If you meant to do this, you must specify 'dtype=object' when creating the ndarray\n",
            "  return array(a, dtype, copy=False, order=order)\n"
          ],
          "name": "stderr"
        },
        {
          "output_type": "display_data",
          "data": {
            "image/png": "[encoded data removed]",
            "text/plain": [
              "<Figure size 720x360 with 1 Axes>"
            ]
          },
          "metadata": {
            "tags": [],
            "needs_background": "light"
          }
        }
      ]
    },
    {
      "cell_type": "markdown",
      "metadata": {
        "id": "MZK5uYXvmtx3"
      },
      "source": [
        "## Мы видим, что количество юсеров с маленьким количеством целевых действий увеличилось, а с большим- уменьшилось"
      ]
    },
    {
      "cell_type": "code",
      "metadata": {
        "colab": {
          "base_uri": "https://localhost:8080/"
        },
        "id": "4JgZhNSAe87c",
        "outputId": "96780b73-0353-41e9-e904-705105b3a1a3"
      },
      "source": [
        "print(A_user['visits'].mean(), B_user['visits'].mean())"
      ],
      "execution_count": null,
      "outputs": [
        {
          "output_type": "stream",
          "text": [
            "5.053855569155447 4.773636720282464\n"
          ],
          "name": "stdout"
        }
      ]
    },
    {
      "cell_type": "markdown",
      "metadata": {
        "id": "tuvqNoGFQRAW"
      },
      "source": [
        "Распределения не нормальные"
      ]
    },
    {
      "cell_type": "markdown",
      "metadata": {
        "id": "fE3lpF8OQcAZ"
      },
      "source": [
        "## Применим тесты для ненормальных распределений"
      ]
    },
    {
      "cell_type": "code",
      "metadata": {
        "colab": {
          "base_uri": "https://localhost:8080/"
        },
        "id": "zefy_OM0QQbh",
        "outputId": "2bed51ea-5555-4692-839a-016edb145cdc"
      },
      "source": [
        "  st = scs.levene(A_user['visits'], B_user['visits'])\r\n",
        "  print('Variances of distributions are {}equal\\n'.format( {True:'not ', False:''}[st[1] < p_value]))"
      ],
      "execution_count": null,
      "outputs": [
        {
          "output_type": "stream",
          "text": [
            "Variances of distributions are equal\n",
            "\n"
          ],
          "name": "stdout"
        }
      ]
    },
    {
      "cell_type": "code",
      "metadata": {
        "colab": {
          "base_uri": "https://localhost:8080/"
        },
        "id": "N13bekkURZAE",
        "outputId": "a1fdcc8e-e950-4fb7-f3bc-09b20614f6a3"
      },
      "source": [
        "mn = scs.mannwhitneyu(A_user['visits'], B_user['visits'])\r\n",
        "print('Diffs is {}significant\\n'.format( {True:'not ', False:''}[mn[1] < alpha]))\r\n",
        "print(mn)"
      ],
      "execution_count": null,
      "outputs": [
        {
          "output_type": "stream",
          "text": [
            "Diffs is significant\n",
            "\n",
            "MannwhitneyuResult(statistic=3122252.5, pvalue=0.48702495757862463)\n"
          ],
          "name": "stdout"
        }
      ]
    },
    {
      "cell_type": "markdown",
      "metadata": {
        "id": "d-yJSGifUPSG"
      },
      "source": [
        "## Различие между метриками существенное"
      ]
    },
    {
      "cell_type": "markdown",
      "metadata": {
        "id": "fJCv1-dUYkcV"
      },
      "source": [
        "# Диаграмма размаха"
      ]
    },
    {
      "cell_type": "code",
      "metadata": {
        "id": "342zHfzoYO6Y"
      },
      "source": [
        "sns.boxplot(y = 'visits', x = 'group', data = user, palette = 'Set2', orient = 'v')"
      ],
      "execution_count": null,
      "outputs": []
    },
    {
      "cell_type": "markdown",
      "metadata": {
        "id": "InPNM2_Xby-l"
      },
      "source": [
        "# Исследуем Churn Visits"
      ]
    },
    {
      "cell_type": "code",
      "metadata": {
        "id": "EDew6HmLbyAj"
      },
      "source": [
        "A_user['churn_visits'].hist()"
      ],
      "execution_count": null,
      "outputs": []
    },
    {
      "cell_type": "code",
      "metadata": {
        "id": "gDwQt_YDcLYp"
      },
      "source": [
        "B_user['churn_visits'].hist()"
      ],
      "execution_count": null,
      "outputs": []
    },
    {
      "cell_type": "code",
      "metadata": {
        "id": "KA9NwLSbcQSA"
      },
      "source": [
        "plt.figure(figsize=(10,5))\r\n",
        "plt.hist([A_user['churn_visits'], B_user['churn_visits']], label=['Group a', 'Group b'])\r\n",
        "plt.legend(loc='upper right')\r\n",
        "plt.show()"
      ],
      "execution_count": null,
      "outputs": []
    },
    {
      "cell_type": "markdown",
      "metadata": {
        "id": "RcLiiTCfmbHM"
      },
      "source": [
        "## Мы видим, что количество юсеров с маленьким количеством отрицательных целевых действий уменьшилось, а с большим- увеличилось"
      ]
    },
    {
      "cell_type": "markdown",
      "metadata": {
        "id": "iOtyO3pQccYQ"
      },
      "source": [
        "Распределения ненормальные"
      ]
    },
    {
      "cell_type": "code",
      "metadata": {
        "id": "i1rO95SSf8Cw"
      },
      "source": [
        "print(A_user['churn_visits'].mean(), B_user['churn_visits'].mean())"
      ],
      "execution_count": null,
      "outputs": []
    },
    {
      "cell_type": "markdown",
      "metadata": {
        "id": "luo3RZaJcH3E"
      },
      "source": [
        "## Применим тесты для ненормальных распределений"
      ]
    },
    {
      "cell_type": "code",
      "metadata": {
        "id": "wAbZJ0Docf_a"
      },
      "source": [
        "st = scs.levene(A_user['churn_visits'], B_user['churn_visits'])\r\n",
        "print('Variances of distributions are {}equal\\n'.format( {True:'not ', False:''}[st[1] < p_value]))"
      ],
      "execution_count": null,
      "outputs": []
    },
    {
      "cell_type": "code",
      "metadata": {
        "id": "j024IL97cgIX"
      },
      "source": [
        "mn = scs.mannwhitneyu(A_user['churn_visits'], B_user['churn_visits'])\r\n",
        "print('Diffs is {}significant\\n'.format( {True:'not ', False:''}[mn[1] < alpha]))\r\n",
        "print(mn)"
      ],
      "execution_count": null,
      "outputs": []
    },
    {
      "cell_type": "markdown",
      "metadata": {
        "id": "oQLd53LJc8zH"
      },
      "source": [
        "Различия существенны"
      ]
    },
    {
      "cell_type": "markdown",
      "metadata": {
        "id": "k4ZabXqugBSW"
      },
      "source": [
        "Диаграмма размаха"
      ]
    },
    {
      "cell_type": "code",
      "metadata": {
        "id": "NnRftuEnc7na"
      },
      "source": [
        "sns.boxplot(y = 'churn_visits', x = 'group', data = user, palette = 'Set2', orient = 'v')"
      ],
      "execution_count": null,
      "outputs": []
    },
    {
      "cell_type": "code",
      "metadata": {
        "id": "9VFP-KWLZsXS"
      },
      "source": [
        "!pip install bootstrapped"
      ],
      "execution_count": null,
      "outputs": []
    },
    {
      "cell_type": "markdown",
      "metadata": {
        "id": "heuLRcC3cnn_"
      },
      "source": [
        "# Теперь используем бутстрэп, чтобы мы могли применять тесты для нормальных распределений"
      ]
    },
    {
      "cell_type": "code",
      "metadata": {
        "id": "XusmSeY8lRRE",
        "colab": {
          "base_uri": "https://localhost:8080/",
          "height": 330
        },
        "outputId": "b3dba002-92b5-405a-bf0e-253270339f73"
      },
      "source": [
        "from bootstrapped import bootstrap as bs\r\n",
        "from bootstrapped import compare_functions as bs_compare\r\n",
        "from bootstrapped import stats_functions as bs_stats"
      ],
      "execution_count": null,
      "outputs": [
        {
          "output_type": "error",
          "ename": "ModuleNotFoundError",
          "evalue": "ignored",
          "traceback": [
            "\u001b[0;31m---------------------------------------------------------------------------\u001b[0m",
            "\u001b[0;31mModuleNotFoundError\u001b[0m                       Traceback (most recent call last)",
            "\u001b[0;32m<ipython-input-1-34e151b57a35>\u001b[0m in \u001b[0;36m<module>\u001b[0;34m()\u001b[0m\n\u001b[0;32m----> 1\u001b[0;31m \u001b[0;32mfrom\u001b[0m \u001b[0mbootstrapped\u001b[0m \u001b[0;32mimport\u001b[0m \u001b[0mbootstrap\u001b[0m \u001b[0;32mas\u001b[0m \u001b[0mbs\u001b[0m\u001b[0;34m\u001b[0m\u001b[0;34m\u001b[0m\u001b[0m\n\u001b[0m\u001b[1;32m      2\u001b[0m \u001b[0;32mfrom\u001b[0m \u001b[0mbootstrapped\u001b[0m \u001b[0;32mimport\u001b[0m \u001b[0mcompare_functions\u001b[0m \u001b[0;32mas\u001b[0m \u001b[0mbs_compare\u001b[0m\u001b[0;34m\u001b[0m\u001b[0;34m\u001b[0m\u001b[0m\n\u001b[1;32m      3\u001b[0m \u001b[0;32mfrom\u001b[0m \u001b[0mbootstrapped\u001b[0m \u001b[0;32mimport\u001b[0m \u001b[0mstats_functions\u001b[0m \u001b[0;32mas\u001b[0m \u001b[0mbs_stats\u001b[0m\u001b[0;34m\u001b[0m\u001b[0;34m\u001b[0m\u001b[0m\n",
            "\u001b[0;31mModuleNotFoundError\u001b[0m: No module named 'bootstrapped'",
            "",
            "\u001b[0;31m---------------------------------------------------------------------------\u001b[0;32m\nNOTE: If your import is failing due to a missing package, you can\nmanually install dependencies using either !pip or !apt.\n\nTo view examples of installing some common dependencies, click the\n\"Open Examples\" button below.\n\u001b[0;31m---------------------------------------------------------------------------\u001b[0m\n"
          ]
        }
      ]
    },
    {
      "cell_type": "markdown",
      "metadata": {
        "id": "GaRWnHu2Vs2_"
      },
      "source": [
        "## Metric Value"
      ]
    },
    {
      "cell_type": "code",
      "metadata": {
        "id": "vIMYq6LCZlIK",
        "colab": {
          "base_uri": "https://localhost:8080/",
          "height": 178
        },
        "outputId": "ad87d235-ec11-41a3-9160-ca8fff01c3dd"
      },
      "source": [
        "A_user_norm = bs.bootstrap(A_user['metric_value'].values,bs_stats.mean, return_distribution=True, num_iterations = len(A_user))\r\n",
        "B_user_norm = bs.bootstrap(B_user['metric_value'].values,bs_stats.mean, return_distribution=True, num_iterations = len(B_user))"
      ],
      "execution_count": null,
      "outputs": [
        {
          "output_type": "error",
          "ename": "NameError",
          "evalue": "ignored",
          "traceback": [
            "\u001b[0;31m---------------------------------------------------------------------------\u001b[0m",
            "\u001b[0;31mNameError\u001b[0m                                 Traceback (most recent call last)",
            "\u001b[0;32m<ipython-input-2-fcf95d217e58>\u001b[0m in \u001b[0;36m<module>\u001b[0;34m()\u001b[0m\n\u001b[0;32m----> 1\u001b[0;31m \u001b[0mA_user_norm\u001b[0m \u001b[0;34m=\u001b[0m \u001b[0mbs\u001b[0m\u001b[0;34m.\u001b[0m\u001b[0mbootstrap\u001b[0m\u001b[0;34m(\u001b[0m\u001b[0mA_user\u001b[0m\u001b[0;34m[\u001b[0m\u001b[0;34m'metric_value'\u001b[0m\u001b[0;34m]\u001b[0m\u001b[0;34m.\u001b[0m\u001b[0mvalues\u001b[0m\u001b[0;34m,\u001b[0m\u001b[0mbs_stats\u001b[0m\u001b[0;34m.\u001b[0m\u001b[0mmean\u001b[0m\u001b[0;34m,\u001b[0m \u001b[0mreturn_distribution\u001b[0m\u001b[0;34m=\u001b[0m\u001b[0;32mTrue\u001b[0m\u001b[0;34m,\u001b[0m \u001b[0mnum_iterations\u001b[0m \u001b[0;34m=\u001b[0m \u001b[0mlen\u001b[0m\u001b[0;34m(\u001b[0m\u001b[0mA_user\u001b[0m\u001b[0;34m)\u001b[0m\u001b[0;34m)\u001b[0m\u001b[0;34m\u001b[0m\u001b[0;34m\u001b[0m\u001b[0m\n\u001b[0m\u001b[1;32m      2\u001b[0m \u001b[0mB_user_norm\u001b[0m \u001b[0;34m=\u001b[0m \u001b[0mbs\u001b[0m\u001b[0;34m.\u001b[0m\u001b[0mbootstrap\u001b[0m\u001b[0;34m(\u001b[0m\u001b[0mB_user\u001b[0m\u001b[0;34m[\u001b[0m\u001b[0;34m'metric_value'\u001b[0m\u001b[0;34m]\u001b[0m\u001b[0;34m.\u001b[0m\u001b[0mvalues\u001b[0m\u001b[0;34m,\u001b[0m\u001b[0mbs_stats\u001b[0m\u001b[0;34m.\u001b[0m\u001b[0mmean\u001b[0m\u001b[0;34m,\u001b[0m \u001b[0mreturn_distribution\u001b[0m\u001b[0;34m=\u001b[0m\u001b[0;32mTrue\u001b[0m\u001b[0;34m,\u001b[0m \u001b[0mnum_iterations\u001b[0m \u001b[0;34m=\u001b[0m \u001b[0mlen\u001b[0m\u001b[0;34m(\u001b[0m\u001b[0mB_user\u001b[0m\u001b[0;34m)\u001b[0m\u001b[0;34m)\u001b[0m\u001b[0;34m\u001b[0m\u001b[0;34m\u001b[0m\u001b[0m\n",
            "\u001b[0;31mNameError\u001b[0m: name 'bs' is not defined"
          ]
        }
      ]
    },
    {
      "cell_type": "code",
      "metadata": {
        "id": "IwSVZnXuuM7s"
      },
      "source": [
        "print('Mean for A: {}'.format(A_user_norm.mean()))\r\n",
        "print('Std for A: {}'.format(A_user_norm.std()))\r\n",
        "print('Mean for B: {}'.format(B_user_norm.mean()))\r\n",
        "print('Std for B: {}'.format(B_user_norm.std()))"
      ],
      "execution_count": null,
      "outputs": []
    },
    {
      "cell_type": "code",
      "metadata": {
        "id": "3BgL-dVYuSJv"
      },
      "source": [
        "len(A_user_norm)"
      ],
      "execution_count": null,
      "outputs": []
    },
    {
      "cell_type": "markdown",
      "metadata": {
        "id": "jIkNwRjZt3vO"
      },
      "source": [
        "Новые гистограммы распределений и эмперические функции"
      ]
    },
    {
      "cell_type": "code",
      "metadata": {
        "id": "zMlK-ImWdmk5"
      },
      "source": [
        "plt.hist(A_user_norm, bins = 15)"
      ],
      "execution_count": null,
      "outputs": []
    },
    {
      "cell_type": "code",
      "metadata": {
        "id": "sF407dyDuAbG"
      },
      "source": [
        "plt.hist(B_user_norm, bins = 15)"
      ],
      "execution_count": null,
      "outputs": []
    },
    {
      "cell_type": "code",
      "metadata": {
        "id": "65kNy5_zuAen"
      },
      "source": [
        "x_axis = np.arange(5500,6500 , 0.1)\r\n",
        "sns_plot = sns.lineplot(x_axis, statsmodels.distributions.empirical_distribution.ECDF(A_user_norm)(x_axis))\r\n",
        "sns_plot2 = sns.lineplot(x_axis, scs.norm.cdf(x_axis, loc = 6013, scale = 34))\r\n",
        "fig = sns_plot.get_figure()\r\n",
        "fig = sns_plot2.get_figure()"
      ],
      "execution_count": null,
      "outputs": []
    },
    {
      "cell_type": "code",
      "metadata": {
        "id": "QcvKpZ68uEs8"
      },
      "source": [
        "x_axis = np.arange(5900,6950 , 0.1)\r\n",
        "sns_plot = sns.lineplot(x_axis, statsmodels.distributions.empirical_distribution.ECDF(B_user_norm)(x_axis))\r\n",
        "sns_plot2 = sns.lineplot(x_axis, scs.norm.cdf(x_axis, loc = 6445, scale = 34))\r\n",
        "fig = sns_plot.get_figure()\r\n",
        "fig = sns_plot2.get_figure()"
      ],
      "execution_count": null,
      "outputs": []
    },
    {
      "cell_type": "markdown",
      "metadata": {
        "id": "S0vPcwFN6I-x"
      },
      "source": [
        "Исследуем на нормальность"
      ]
    },
    {
      "cell_type": "code",
      "metadata": {
        "id": "TQGsRzc5gckV"
      },
      "source": [
        "alpha = 0.05\r\n",
        "\r\n",
        "st_a = scs.shapiro(A_user_norm)\r\n",
        "print('Distribution is {}normal\\n'.format( {True:'not ', False:''}[st_a[1] < alpha]))\r\n",
        "print(st_a)"
      ],
      "execution_count": null,
      "outputs": []
    },
    {
      "cell_type": "code",
      "metadata": {
        "id": "BIp0zkMPg55N"
      },
      "source": [
        "st_b = scs.shapiro(B_user_norm)\r\n",
        "print('Distribution is {}normal\\n'.format( {True:'not ', False:''}[st_b[1] < alpha]))\r\n",
        "print(st_b)"
      ],
      "execution_count": null,
      "outputs": []
    },
    {
      "cell_type": "markdown",
      "metadata": {
        "id": "1SfIkCXK8o-C"
      },
      "source": [
        "Сравним дисперсии"
      ]
    },
    {
      "cell_type": "code",
      "metadata": {
        "id": "YcHzR_Af6RLF"
      },
      "source": [
        "p_value = scs.f_oneway(A_user_norm, B_user_norm)[1]\r\n",
        "print('{} the H0: Var(X1) == Var(X2)\\n'.format({True:'Reject', False:'Confirm'}[p_value > alpha]))"
      ],
      "execution_count": null,
      "outputs": []
    },
    {
      "cell_type": "code",
      "metadata": {
        "id": "EKoRi7mZ8aEg"
      },
      "source": [
        "st = scs.bartlett(A_user_norm, B_user_norm)\r\n",
        "print('Variances of distributions are {}equal\\n'.format( {True:'not ',False:''}[st[1] < p_value]))"
      ],
      "execution_count": null,
      "outputs": []
    },
    {
      "cell_type": "code",
      "metadata": {
        "id": "RH_ELj2L-6cy"
      },
      "source": [
        "st = scs.ttest_ind(A_user_norm, B_user_norm)\r\n",
        "print('Diffs is {}significant\\n'.format( {True:'not ',False:''}[st[1] < alpha]))"
      ],
      "execution_count": null,
      "outputs": []
    },
    {
      "cell_type": "markdown",
      "metadata": {
        "id": "3XAeTB0QV5FQ"
      },
      "source": [
        "## Visits"
      ]
    },
    {
      "cell_type": "code",
      "metadata": {
        "id": "8JLQN1P0V7qI"
      },
      "source": [
        "A_user_norm_visit = bs.bootstrap(A_user['visits'].values,bs_stats.mean, return_distribution=True, num_iterations = len(A_user))\r\n",
        "B_user_norm_visit = bs.bootstrap(B_user['visits'].values,bs_stats.mean, return_distribution=True, num_iterations = len(B_user))"
      ],
      "execution_count": null,
      "outputs": []
    },
    {
      "cell_type": "code",
      "metadata": {
        "id": "drKQX9fgV7I8"
      },
      "source": [
        "print('Mean for A: {}'.format(A_user_norm_visit.mean()))\r\n",
        "print('Std for A: {}'.format(A_user_norm_visit.std()))\r\n",
        "print('Mean for B: {}'.format(B_user_norm_visit.mean()))\r\n",
        "print('Std for B: {}'.format(B_user_norm_visit.std()))"
      ],
      "execution_count": null,
      "outputs": []
    },
    {
      "cell_type": "code",
      "metadata": {
        "id": "B5gEKlThWpcv"
      },
      "source": [
        "plt.hist(A_user_norm_visit)"
      ],
      "execution_count": null,
      "outputs": []
    },
    {
      "cell_type": "code",
      "metadata": {
        "id": "JSXSbr8oWf3Q"
      },
      "source": [
        "plt.hist(B_user_norm_visit)"
      ],
      "execution_count": null,
      "outputs": []
    },
    {
      "cell_type": "code",
      "metadata": {
        "id": "m-FcXrRuWfu5"
      },
      "source": [
        "plt.figure(figsize=(10,5))\r\n",
        "plt.hist([A_user_norm_visit, B_user_norm_visit], label=['Group a', 'Group b'])\r\n",
        "plt.legend(loc='upper left')\r\n",
        "plt.show()"
      ],
      "execution_count": null,
      "outputs": []
    },
    {
      "cell_type": "code",
      "metadata": {
        "id": "sthHinT6XXZ-"
      },
      "source": [
        "st_a = scs.shapiro(A_user_norm_visit)\r\n",
        "print('Distribution is {}normal\\n'.format( {True:'not ', False:''}[st_a[1] < alpha]))\r\n",
        "print(st_a)"
      ],
      "execution_count": null,
      "outputs": []
    },
    {
      "cell_type": "code",
      "metadata": {
        "id": "eBtGjV9_XdoB"
      },
      "source": [
        "st_b = scs.shapiro(B_user_norm_visit)\r\n",
        "print('Distribution is {}normal\\n'.format( {True:'not ', False:''}[st_b[1] < alpha]))\r\n",
        "print(st_b)"
      ],
      "execution_count": null,
      "outputs": []
    },
    {
      "cell_type": "markdown",
      "metadata": {
        "id": "VUNIbPPCjwQS"
      },
      "source": [
        "# Churn visits"
      ]
    },
    {
      "cell_type": "code",
      "metadata": {
        "id": "8fWvnwRPjyv6"
      },
      "source": [
        "A_user_norm_churn_visit = bs.bootstrap(A_user['churn_visits'].values,bs_stats.mean, return_distribution=True, num_iterations = len(A_user))\r\n",
        "B_user_norm_churn_visit = bs.bootstrap(B_user['churn_visits'].values,bs_stats.mean, return_distribution=True, num_iterations = len(B_user))"
      ],
      "execution_count": null,
      "outputs": []
    },
    {
      "cell_type": "code",
      "metadata": {
        "colab": {
          "base_uri": "https://localhost:8080/"
        },
        "id": "eAY8OhV4jy3I",
        "outputId": "4fe24197-ddcb-41d8-ebeb-321399c6f418"
      },
      "source": [
        "print('Mean for A: {}'.format(A_user_norm_churn_visit.mean()))\r\n",
        "print('Std for A: {}'.format(A_user_norm_churn_visit.std()))\r\n",
        "print('Mean for B: {}'.format(B_user_norm_churn_visit.mean()))\r\n",
        "print('Std for B: {}'.format(B_user_norm_churn_visit.std()))"
      ],
      "execution_count": null,
      "outputs": [
        {
          "output_type": "stream",
          "text": [
            "Mean for A: 6.928608561339587\n",
            "Std for A: 0.03828412922687957\n",
            "Mean for B: 6.980824332683176\n",
            "Std for B: 0.03823210377351361\n"
          ],
          "name": "stdout"
        }
      ]
    },
    {
      "cell_type": "code",
      "metadata": {
        "colab": {
          "base_uri": "https://localhost:8080/",
          "height": 349
        },
        "id": "1SIiBvEgjy5d",
        "outputId": "27a7e760-2ba4-4208-8744-36065b316cd3"
      },
      "source": [
        "plt.hist(A_user_norm_churn_visit)"
      ],
      "execution_count": null,
      "outputs": [
        {
          "output_type": "execute_result",
          "data": {
            "text/plain": [
              "(array([  8.,  31., 127., 357., 631., 616., 438., 186.,  45.,  12.]),\n",
              " array([6.79273766, 6.81925745, 6.84577723, 6.87229702, 6.89881681,\n",
              "        6.9253366 , 6.95185639, 6.97837617, 7.00489596, 7.03141575,\n",
              "        7.05793554]),\n",
              " <a list of 10 Patch objects>)"
            ]
          },
          "metadata": {
            "tags": []
          },
          "execution_count": 431
        },
        {
          "output_type": "display_data",
          "data": {
            "image/png": "[encoded data removed]",
            "text/plain": [
              "<Figure size 432x288 with 1 Axes>"
            ]
          },
          "metadata": {
            "tags": [],
            "needs_background": "light"
          }
        }
      ]
    },
    {
      "cell_type": "code",
      "metadata": {
        "colab": {
          "base_uri": "https://localhost:8080/",
          "height": 349
        },
        "id": "sklp7IUKjy7_",
        "outputId": "bddcf8b6-f196-4984-ec1b-227f225d9508"
      },
      "source": [
        "plt.hist(B_user_norm_churn_visit)"
      ],
      "execution_count": null,
      "outputs": [
        {
          "output_type": "execute_result",
          "data": {
            "text/plain": [
              "(array([ 13.,  51., 190., 450., 681., 642., 374., 116.,  24.,   8.]),\n",
              " array([6.85170655, 6.87846214, 6.90521773, 6.93197332, 6.95872891,\n",
              "        6.9854845 , 7.01224009, 7.03899568, 7.06575128, 7.09250687,\n",
              "        7.11926246]),\n",
              " <a list of 10 Patch objects>)"
            ]
          },
          "metadata": {
            "tags": []
          },
          "execution_count": 432
        },
        {
          "output_type": "display_data",
          "data": {
            "image/png": "[encoded data removed]",
            "text/plain": [
              "<Figure size 432x288 with 1 Axes>"
            ]
          },
          "metadata": {
            "tags": [],
            "needs_background": "light"
          }
        }
      ]
    },
    {
      "cell_type": "code",
      "metadata": {
        "colab": {
          "base_uri": "https://localhost:8080/",
          "height": 374
        },
        "id": "4BURBQUTjy-x",
        "outputId": "91db0366-a240-4aa4-c435-d1341060ed39"
      },
      "source": [
        "plt.figure(figsize=(10,5))\r\n",
        "plt.hist([A_user_norm_churn_visit, B_user_norm_churn_visit], label=['Group a', 'Group b'])\r\n",
        "plt.legend(loc='upper left')\r\n",
        "plt.show()"
      ],
      "execution_count": null,
      "outputs": [
        {
          "output_type": "stream",
          "text": [
            "/usr/local/lib/python3.6/dist-packages/numpy/core/_asarray.py:83: VisibleDeprecationWarning: Creating an ndarray from ragged nested sequences (which is a list-or-tuple of lists-or-tuples-or ndarrays with different lengths or shapes) is deprecated. If you meant to do this, you must specify 'dtype=object' when creating the ndarray\n",
            "  return array(a, dtype, copy=False, order=order)\n"
          ],
          "name": "stderr"
        },
        {
          "output_type": "display_data",
          "data": {
            "image/png": "[encoded data removed]",
            "text/plain": [
              "<Figure size 720x360 with 1 Axes>"
            ]
          },
          "metadata": {
            "tags": [],
            "needs_background": "light"
          }
        }
      ]
    },
    {
      "cell_type": "code",
      "metadata": {
        "colab": {
          "base_uri": "https://localhost:8080/"
        },
        "id": "WVaPt2-vjzBl",
        "outputId": "2c80c78a-95f1-4ecc-9788-9b789ed1b4f2"
      },
      "source": [
        "st_a = scs.shapiro(A_user_norm_churn_visit)\r\n",
        "print('Distribution is {}normal\\n'.format( {True:'not ', False:''}[st_a[1] < alpha]))\r\n",
        "print(st_a)"
      ],
      "execution_count": null,
      "outputs": [
        {
          "output_type": "stream",
          "text": [
            "Distribution is normal\n",
            "\n",
            "(0.9994896650314331, 0.7919822335243225)\n"
          ],
          "name": "stdout"
        }
      ]
    },
    {
      "cell_type": "code",
      "metadata": {
        "colab": {
          "base_uri": "https://localhost:8080/"
        },
        "id": "cIpS6MnEjzFE",
        "outputId": "0e6e2c24-08fd-4ee0-e64b-481368a626cb"
      },
      "source": [
        "st_b = scs.shapiro(B_user_norm_churn_visit)\r\n",
        "print('Distribution is {}normal\\n'.format( {True:'not ', False:''}[st_b[1] < alpha]))\r\n",
        "print(st_b)"
      ],
      "execution_count": null,
      "outputs": [
        {
          "output_type": "stream",
          "text": [
            "Distribution is normal\n",
            "\n",
            "(0.9994062781333923, 0.6311600804328918)\n"
          ],
          "name": "stdout"
        }
      ]
    },
    {
      "cell_type": "code",
      "metadata": {
        "colab": {
          "base_uri": "https://localhost:8080/"
        },
        "id": "gbY0HQEulWc6",
        "outputId": "3634cd0e-1354-4670-f130-b35a736922db"
      },
      "source": [
        "st = scs.ttest_ind(A_user_norm_visit, B_user_norm_visit)\r\n",
        "print(st)\r\n",
        "print('Diffs is {}significant\\n'.format( {True:'not ',False:''}[st[1] < alpha]))"
      ],
      "execution_count": null,
      "outputs": [
        {
          "output_type": "stream",
          "text": [
            "Ttest_indResult(statistic=59.048185652938365, pvalue=0.0)\n",
            "Diffs is not significant\n",
            "\n"
          ],
          "name": "stdout"
        }
      ]
    },
    {
      "cell_type": "markdown",
      "metadata": {
        "id": "MIH1cPM8Xjqj"
      },
      "source": [
        "## Сравним дисперсии"
      ]
    },
    {
      "cell_type": "code",
      "metadata": {
        "colab": {
          "base_uri": "https://localhost:8080/"
        },
        "id": "uIoCkCC7XgGg",
        "outputId": "0e22b850-4e04-48d9-8428-347a801c58c7"
      },
      "source": [
        "p_value = scs.f_oneway(A_user_norm_visit, B_user_norm_visit)[1]\r\n",
        "print('{} the H0: Var(X1) == Var(X2)\\n'.format({True:'Reject', False:'Confirm'}[p_value > alpha]))"
      ],
      "execution_count": null,
      "outputs": [
        {
          "output_type": "stream",
          "text": [
            "Confirm the H0: Var(X1) == Var(X2)\n",
            "\n"
          ],
          "name": "stdout"
        }
      ]
    },
    {
      "cell_type": "code",
      "metadata": {
        "colab": {
          "base_uri": "https://localhost:8080/"
        },
        "id": "mx3pAJnuXnIj",
        "outputId": "bef2c793-0d08-420a-9e9e-622a4c84ae96"
      },
      "source": [
        "st = scs.bartlett(A_user_norm_visit, B_user_norm_visit)\r\n",
        "print('Variances of distributions are {}equal\\n'.format( {True:'not ',False:''}[st[1] < p_value]))"
      ],
      "execution_count": null,
      "outputs": [
        {
          "output_type": "stream",
          "text": [
            "Variances of distributions are equal\n",
            "\n"
          ],
          "name": "stdout"
        }
      ]
    },
    {
      "cell_type": "code",
      "metadata": {
        "colab": {
          "base_uri": "https://localhost:8080/"
        },
        "id": "MhqEahtfXuok",
        "outputId": "99a46dd7-bd9c-4f7a-b187-5dc7fdef9d23"
      },
      "source": [
        "st = scs.ttest_ind(A_user_norm_churn_visit, B_user_norm_churn_visit)\r\n",
        "print(st)\r\n",
        "print('Diffs is {}significant\\n'.format( {True:'not ',False:''}[st[1] < alpha]))"
      ],
      "execution_count": null,
      "outputs": [
        {
          "output_type": "stream",
          "text": [
            "Ttest_indResult(statistic=-48.2356899405339, pvalue=0.0)\n",
            "Diffs is not significant\n",
            "\n"
          ],
          "name": "stdout"
        }
      ]
    },
    {
      "cell_type": "markdown",
      "metadata": {
        "id": "NUFoS_3jEEZa"
      },
      "source": [
        "# Выводы"
      ]
    },
    {
      "cell_type": "markdown",
      "metadata": {
        "id": "SLfhQ-DUEHBx"
      },
      "source": [
        "1) В обоих случаях(без бутстрэпа и с) велечина Metric Value изменилась несущественно"
      ]
    },
    {
      "cell_type": "markdown",
      "metadata": {
        "id": "mEB4TH3OZW6k"
      },
      "source": [
        "2) Количество целевых сессий уменьшилось значимо для обычной выборки, для бутстрапированной выборки - нет"
      ]
    },
    {
      "cell_type": "markdown",
      "metadata": {
        "id": "uqXY413iZZ7t"
      },
      "source": [
        "3) Количество нецелевых сессий увеличилось увеличилось значимо для обычной выборки, для бутстрапированной - нет"
      ]
    },
    {
      "cell_type": "markdown",
      "metadata": {
        "id": "foisKh4OdDef"
      },
      "source": [
        "=> Нововведение оказалось лишним"
      ]
    },
    {
      "cell_type": "code",
      "metadata": {
        "id": "AgNTuxZddHfD"
      },
      "source": [
        ""
      ],
      "execution_count": null,
      "outputs": []
    }
  ]
}